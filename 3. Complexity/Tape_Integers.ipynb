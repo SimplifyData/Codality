{
 "cells": [
  {
   "cell_type": "markdown",
   "metadata": {
    "collapsed": true
   },
   "source": [
    "Write a function:\n",
    "\n",
    "    def solution(A)\n",
    "\n",
    "that, given a non-empty zero-indexed array A of N integers, returns the minimal difference that can be achieved.\n",
    "\n",
    "For example, given:\n",
    "  A[0] = 3\n",
    "  A[1] = 1\n",
    "  A[2] = 2\n",
    "  A[3] = 4\n",
    "  A[4] = 3\n",
    "\n",
    "the function should return 1, as explained above.\n",
    "\n",
    "Assume that:\n",
    "\n",
    "        N is an integer within the range [2..100,000];\n",
    "        each element of array A is an integer within the range [−1,000..1,000].\n",
    "\n",
    "Complexity:\n",
    "\n",
    "        expected worst-case time complexity is O(N);\n",
    "        expected worst-case space complexity is O(N), beyond input storage (not counting the storage required for input arguments).\n",
    "\n",
    "Elements of input arrays can be modified."
   ]
  },
  {
   "cell_type": "markdown",
   "metadata": {},
   "source": [
    "# Defining the Function:\n",
    "\n",
    "-----------------------------------------------------------\n",
    "## left_side_sum = P[0:N-1]\n",
    "## right_side_sum = P[N:]\n",
    "\n",
    "----------------------------------------------------------\n",
    "\n",
    "## Difference = absolute(left_side_sum - right_side_sum)\n",
    "\n",
    "------------------------------------------------------------\n",
    "\n",
    "# Range:\n",
    "\n",
    "## N = [2,100,000]\n",
    "## P = [-1000, 1000]\n",
    "\n",
    "-------------------------------------------------------------\n",
    "\n",
    "# Complexity\n",
    "\n",
    "## Time = O^n\n",
    "## Space = O^n\n",
    "\n",
    "--------------------------------------------------------------\n",
    "\n",
    "# Answer:\n",
    "\n",
    "## Minimum_Difference\n",
    "\n",
    "----------------------------------------------------------------"
   ]
  },
  {
   "cell_type": "code",
   "execution_count": 1,
   "metadata": {},
   "outputs": [],
   "source": [
    "A = [3,1,2,4,3]"
   ]
  },
  {
   "cell_type": "markdown",
   "metadata": {},
   "source": [
    "V1. broken Testing. Changing the iteration values to be used."
   ]
  },
  {
   "cell_type": "markdown",
   "metadata": {},
   "source": [
    "Designing the function"
   ]
  },
  {
   "cell_type": "code",
   "execution_count": 2,
   "metadata": {},
   "outputs": [],
   "source": [
    "def tape_int_1(data):\n",
    "    \n",
    "    left_side_sum = 0\n",
    "    \n",
    "    right_side_sum = sum(data[:])\n",
    "    \n",
    "    min_diff = abs(left_side_sum - right_side_sum)\n",
    "    \n",
    "    print \"\\n initial min_diff: \", min_diff, \n",
    "    \n",
    "    print \"\\ninitial left side sum: \", left_side_sum\n",
    "    \n",
    "    print \"initial right side sum: \", right_side_sum , \"\\n\"\n",
    "    \n",
    "    for counter,num in enumerate(data):\n",
    "        if counter == 0: continue\n",
    "        pre_num = data[counter-1]\n",
    "        \n",
    "        left_side_sum += pre_num\n",
    "        \n",
    "        right_side_sum -= pre_num\n",
    "        \n",
    "        right_side_sum += num\n",
    "        \n",
    "        print \"\\n pre_num: \", pre_num\n",
    "        \n",
    "        print \"current num: \", num\n",
    "        \n",
    "        print \"left_sum: \", left_side_sum\n",
    "        \n",
    "        print \"right_sum: \", right_side_sum, \"\\n\"\n",
    "        \n",
    "        current_diff = abs( left_side_sum - right_side_sum)\n",
    "                           \n",
    "        print \"current diff: \", current_diff, \"\\n\"\n",
    "        \n",
    "        if min_diff > current_diff:\n",
    "            min_diff = current_diff\n",
    "        \n",
    "        print \"\\n current min_diff: \", min_diff\n",
    "        \n",
    "        #print \"pre_num: \", pre_num\n",
    "        \n",
    "        #print \"current num: \", num\n",
    "        \n",
    "        #print \"left_sum: \", left_side_sum\n",
    "        \n",
    "        #print \"right_sum: \", right_side_sum\n",
    "                \n",
    "        #print \"current diff: \", current_diff, \"\\n\"\n",
    "        \n",
    "        if counter >= len(data) -1:\n",
    "            return min_diff"
   ]
  },
  {
   "cell_type": "code",
   "execution_count": 3,
   "metadata": {},
   "outputs": [
    {
     "name": "stdout",
     "output_type": "stream",
     "text": [
      "[3, 1, 2, 4, 3]\n\n initial min_diff:  13 \ninitial left side sum:  0\ninitial right side sum:  13 \n\n\n pre_num:  3\ncurrent num:  1\nleft_sum:  3\nright_sum:  11 \n\ncurrent diff:  8 \n\n\n current min_diff:  8\n\n pre_num:  1\ncurrent num:  2\nleft_sum:  4\nright_sum:  12 \n\ncurrent diff:  8 \n\n\n current min_diff:  8\n\n pre_num:  2\ncurrent num:  4\nleft_sum:  6\nright_sum:  14 \n\ncurrent diff:  8 \n\n\n current min_diff:  8\n\n pre_num:  4\ncurrent num:  3\nleft_sum:  10\nright_sum:  13 \n\ncurrent diff:  3 \n\n\n current min_diff:  3\n3\n"
     ]
    }
   ],
   "source": [
    "print A\n",
    "\n",
    "print tape_int_1(A)"
   ]
  },
  {
   "cell_type": "markdown",
   "metadata": {},
   "source": [
    "V2."
   ]
  },
  {
   "cell_type": "code",
   "execution_count": 4,
   "metadata": {},
   "outputs": [],
   "source": [
    "def tape_int_2(data):\n",
    "    \n",
    "    left_side_sum = 0\n",
    "    \n",
    "    right_side_sum = sum(data[:])\n",
    "    \n",
    "    min_diff = abs(left_side_sum - right_side_sum)\n",
    "    \n",
    "    print \"\\n initial min_diff: \", min_diff, \n",
    "    \n",
    "    print \"\\ninitial left side sum: \", left_side_sum\n",
    "    \n",
    "    print \"initial right side sum: \", right_side_sum , \"\\n\"\n",
    "    \n",
    "    for num in data:\n",
    "        #if counter == 0: continue\n",
    "        #pre_num = data[counter-1]\n",
    "        \n",
    "        left_side_sum += num\n",
    "        \n",
    "        right_side_sum -= num\n",
    "        \n",
    "        #right_side_sum += num\n",
    "        \n",
    "        #print \"\\n pre_num: \", num\n",
    "        \n",
    "        print \"current num: \", num\n",
    "        \n",
    "        print \"left_sum: \", left_side_sum\n",
    "        \n",
    "        print \"right_sum: \", right_side_sum, \"\\n\"\n",
    "        \n",
    "        current_diff = abs( left_side_sum - right_side_sum)\n",
    "                           \n",
    "        print \"current diff: \", current_diff, \"\\n\"\n",
    "        \n",
    "        if min_diff > current_diff:\n",
    "            min_diff = current_diff\n",
    "        \n",
    "        print \"\\n current min_diff: \", min_diff\n",
    "        \n",
    "        #print \"pre_num: \", pre_num\n",
    "        \n",
    "        #print \"current num: \", num\n",
    "        \n",
    "        #print \"left_sum: \", left_side_sum\n",
    "        \n",
    "        #print \"right_sum: \", right_side_sum\n",
    "                \n",
    "        #print \"current diff: \", current_diff, \"\\n\"\n",
    "        \n",
    "        #if counter >= len(data) -1:\n",
    "    return min_diff"
   ]
  },
  {
   "cell_type": "code",
   "execution_count": 5,
   "metadata": {},
   "outputs": [
    {
     "name": "stdout",
     "output_type": "stream",
     "text": [
      "[3, 1, 2, 4, 3]\n\n initial min_diff:  13 \ninitial left side sum:  0\ninitial right side sum:  13 \n\ncurrent num:  3\nleft_sum:  3\nright_sum:  10 \n\ncurrent diff:  7 \n\n\n current min_diff:  7\ncurrent num:  1\nleft_sum:  4\nright_sum:  9 \n\ncurrent diff:  5 \n\n\n current min_diff:  5\ncurrent num:  2\nleft_sum:  6\nright_sum:  7 \n\ncurrent diff:  1 \n\n\n current min_diff:  1\ncurrent num:  4\nleft_sum:  10\nright_sum:  3 \n\ncurrent diff:  7 \n\n\n current min_diff:  1\ncurrent num:  3\nleft_sum:  13\nright_sum:  0 \n\ncurrent diff:  13 \n\n\n current min_diff:  1\n1\n"
     ]
    }
   ],
   "source": [
    "print A\n",
    "print tape_int_2(A)"
   ]
  },
  {
   "cell_type": "markdown",
   "metadata": {},
   "source": [
    "For example, given:\n",
    "  A[0] = 3\n",
    "  A[1] = 1\n",
    "  A[2] = 2\n",
    "  A[3] = 4\n",
    "  A[4] = 3\n",
    "\n",
    "the function should return 1, as explained above."
   ]
  },
  {
   "cell_type": "markdown",
   "metadata": {},
   "source": [
    "Initial Test complete."
   ]
  },
  {
   "cell_type": "markdown",
   "metadata": {},
   "source": [
    "V2.1"
   ]
  },
  {
   "cell_type": "code",
   "execution_count": 6,
   "metadata": {},
   "outputs": [],
   "source": [
    "def tape_int_2_1(data):\n",
    "    \n",
    "    left_side_sum = 0\n",
    "    \n",
    "    right_side_sum = sum(data[:])\n",
    "    \n",
    "    min_diff = abs(left_side_sum - right_side_sum)\n",
    "    \n",
    "    for num in data:\n",
    "        left_side_sum += num\n",
    "        \n",
    "        right_side_sum -= num\n",
    "        \n",
    "        current_diff = abs( left_side_sum - right_side_sum)\n",
    "                           \n",
    "        if min_diff > current_diff:\n",
    "            min_diff = current_diff\n",
    "        \n",
    "    return min_diff"
   ]
  },
  {
   "cell_type": "markdown",
   "metadata": {},
   "source": [
    "Testing  - the code"
   ]
  },
  {
   "cell_type": "markdown",
   "metadata": {},
   "source": [
    ""
   ]
  },
  {
   "cell_type": "markdown",
   "metadata": {},
   "source": [
    "Empty List"
   ]
  },
  {
   "cell_type": "code",
   "execution_count": 7,
   "metadata": {},
   "outputs": [
    {
     "name": "stdout",
     "output_type": "stream",
     "text": [
      "[]\n"
     ]
    }
   ],
   "source": [
    "empty_list  = list()\n",
    "print empty_list"
   ]
  },
  {
   "cell_type": "code",
   "execution_count": 8,
   "metadata": {},
   "outputs": [
    {
     "name": "stdout",
     "output_type": "stream",
     "text": [
      "[]\n0\n"
     ]
    }
   ],
   "source": [
    "print empty_list\n",
    "\n",
    "print tape_int_2_1(empty_list)"
   ]
  },
  {
   "cell_type": "markdown",
   "metadata": {},
   "source": [
    "Designing Data function for testing"
   ]
  },
  {
   "cell_type": "code",
   "execution_count": 9,
   "metadata": {},
   "outputs": [],
   "source": [
    "def random_test_data(start,stop,size):\n",
    "    import random\n",
    "    \n",
    "    return random.sample(xrange(start,stop), size)"
   ]
  },
  {
   "cell_type": "code",
   "execution_count": 10,
   "metadata": {},
   "outputs": [
    {
     "name": "stdout",
     "output_type": "stream",
     "text": [
      "[0, 3, 4, 6, 2, 9, 7, 1, 5, 8]\n<type 'list'>\n"
     ]
    }
   ],
   "source": [
    "small_simple_data = random_test_data(0,10,10)\n",
    "\n",
    "print small_simple_data\n",
    "\n",
    "print type(small_simple_data)"
   ]
  },
  {
   "cell_type": "code",
   "execution_count": 11,
   "metadata": {},
   "outputs": [
    {
     "name": "stdout",
     "output_type": "stream",
     "text": [
      "3\n"
     ]
    }
   ],
   "source": [
    "print tape_int_2_1(small_simple_data)"
   ]
  },
  {
   "cell_type": "markdown",
   "metadata": {},
   "source": [
    "V_2_2 test cases"
   ]
  },
  {
   "cell_type": "code",
   "execution_count": 12,
   "metadata": {},
   "outputs": [
    {
     "name": "stdout",
     "output_type": "stream",
     "text": [
      "[1, 2]\n1\n"
     ]
    }
   ],
   "source": [
    "double_list = [1,2]\n",
    "\n",
    "print double_list\n",
    "\n",
    "print tape_int_2_1(double_list)"
   ]
  },
  {
   "cell_type": "code",
   "execution_count": 13,
   "metadata": {},
   "outputs": [],
   "source": [
    "def tape_int_2_2(data):\n",
    "    \n",
    "    left_side_sum = 0\n",
    "    \n",
    "    right_side_sum = sum(data[:])\n",
    "    \n",
    "    print \"\\ninitial left side sum: \", left_side_sum\n",
    "    \n",
    "    print \"initial right side sum: \", right_side_sum , \n",
    "    \n",
    "    min_diff = abs(left_side_sum - right_side_sum)\n",
    "    \n",
    "    print \"\\n initial min_diff: \", min_diff, \"\\n\"\n",
    "    \n",
    "    for i,num in enumerate(data):\n",
    "        if i == len(data) - 1: break\n",
    "        \n",
    "        left_side_sum += num\n",
    "        \n",
    "        right_side_sum -= num\n",
    "        \n",
    "        print \"current num: \", num\n",
    "        \n",
    "        print \"left_sum: \", left_side_sum\n",
    "        \n",
    "        print \"right_sum: \", right_side_sum, \"\\n\"\n",
    "        \n",
    "        current_diff = abs( left_side_sum - right_side_sum)\n",
    "        \n",
    "        print \"current diff: \", current_diff, \"\\n\"\n",
    "                           \n",
    "        if min_diff > current_diff:\n",
    "            min_diff = current_diff\n",
    "            print \"min diff: \", min_diff\n",
    "        \n",
    "    return min_diff"
   ]
  },
  {
   "cell_type": "code",
   "execution_count": 14,
   "metadata": {},
   "outputs": [
    {
     "name": "stdout",
     "output_type": "stream",
     "text": [
      "[1, 2]\n\ninitial left side sum:  0\ninitial right side sum:  3 \n initial min_diff:  3 \n\ncurrent num:  1\nleft_sum:  1\nright_sum:  2 \n\ncurrent diff:  1 \n\nmin diff:  1\n1\n"
     ]
    }
   ],
   "source": [
    "print double_list\n",
    "\n",
    "print tape_int_2_2(double_list)"
   ]
  },
  {
   "cell_type": "code",
   "execution_count": 15,
   "metadata": {},
   "outputs": [
    {
     "name": "stdout",
     "output_type": "stream",
     "text": [
      "[1, 2]\n\ninitial left side sum:  0\ninitial right side sum:  0 \n initial min_diff:  0 \n\ncurrent num:  -2000\nleft_sum:  -2000\nright_sum:  2000 \n\ncurrent diff:  4000 \n\n0\n"
     ]
    }
   ],
   "source": [
    "double_list_1 = [-2000,2000]\n",
    "\n",
    "print double_list\n",
    "\n",
    "print tape_int_2_2(double_list_1)"
   ]
  },
  {
   "cell_type": "markdown",
   "metadata": {},
   "source": [
    "V2_3"
   ]
  },
  {
   "cell_type": "code",
   "execution_count": 16,
   "metadata": {},
   "outputs": [],
   "source": [
    "def tape_int_2_3(data):\n",
    "    \n",
    "    if len(data) == 0:\n",
    "        return 0\n",
    "    \n",
    "    elif len(data) == 1:\n",
    "        left_side_sum = 0\n",
    "        \n",
    "        right_side_sum = data[0]\n",
    "    else:\n",
    "    \n",
    "        left_side_sum = data[0]\n",
    "        \n",
    "        right_side_sum = sum(data[1:])\n",
    "        \n",
    "    print \"\\ninitial left side sum: \", left_side_sum\n",
    "    \n",
    "    print \"initial right side sum: \", right_side_sum , \n",
    "    \n",
    "    min_diff = abs(left_side_sum - right_side_sum)\n",
    "    \n",
    "    print \"\\n initial min_diff: \", min_diff, \"\\n\"\n",
    "    \n",
    "    pre_num = 0\n",
    "    \n",
    "    for i,num in enumerate(data):\n",
    "        if i < 2:\n",
    "            pre_num = num\n",
    "            continue\n",
    "        \n",
    "        left_side_sum += pre_num\n",
    "        \n",
    "        right_side_sum -= pre_num\n",
    "        \n",
    "        #right_side_sum += num\n",
    "        \n",
    "        print \"current num: \", num\n",
    "        \n",
    "        print \"left_sum: \", left_side_sum\n",
    "        \n",
    "        print \"right_sum: \", right_side_sum, \"\\n\"\n",
    "        \n",
    "        current_diff = abs( left_side_sum - right_side_sum)\n",
    "        \n",
    "        print \"current diff: \", current_diff, \"\\n\"\n",
    "        \n",
    "        pre_num = num\n",
    "                           \n",
    "        if min_diff > current_diff:\n",
    "            min_diff = current_diff\n",
    "            print \"min diff: \", min_diff\n",
    "            \n",
    "    return min_diff"
   ]
  },
  {
   "cell_type": "code",
   "execution_count": 17,
   "metadata": {},
   "outputs": [
    {
     "name": "stdout",
     "output_type": "stream",
     "text": [
      "[1, 2]\n\ninitial left side sum:  -2000\ninitial right side sum:  2000 \n initial min_diff:  4000 \n\n4000\n"
     ]
    }
   ],
   "source": [
    "double_list_1 = [-2000,2000]\n",
    "\n",
    "print double_list\n",
    "\n",
    "print tape_int_2_3(double_list_1)"
   ]
  },
  {
   "cell_type": "code",
   "execution_count": 18,
   "metadata": {},
   "outputs": [
    {
     "name": "stdout",
     "output_type": "stream",
     "text": [
      "0\n"
     ]
    }
   ],
   "source": [
    "print tape_int_2_3(empty_list)"
   ]
  },
  {
   "cell_type": "code",
   "execution_count": 19,
   "metadata": {},
   "outputs": [
    {
     "name": "stdout",
     "output_type": "stream",
     "text": [
      "[3, 1, 2, 4, 3]\n\ninitial left side sum:  3\ninitial right side sum:  10 \n initial min_diff:  7 \n\ncurrent num:  2\nleft_sum:  4\nright_sum:  9 \n\ncurrent diff:  5 \n\nmin diff:  5\ncurrent num:  4\nleft_sum:  6\nright_sum:  7 \n\ncurrent diff:  1 \n\nmin diff:  1\ncurrent num:  3\nleft_sum:  10\nright_sum:  3 \n\ncurrent diff:  7 \n\n1\n"
     ]
    }
   ],
   "source": [
    "print A\n",
    "\n",
    "print tape_int_2_3(A)"
   ]
  },
  {
   "cell_type": "code",
   "execution_count": 20,
   "metadata": {},
   "outputs": [
    {
     "name": "stdout",
     "output_type": "stream",
     "text": [
      "[-1655]\n1\n\ninitial left side sum:  0\ninitial right side sum:  -1655 \n initial min_diff:  1655 \n\n1655\n"
     ]
    }
   ],
   "source": [
    "single_list = random_test_data(-2000,2000,1)\n",
    "\n",
    "print single_list\n",
    "\n",
    "print (len(single_list))\n",
    "\n",
    "print tape_int_2_3(single_list)"
   ]
  },
  {
   "cell_type": "code",
   "execution_count": 21,
   "metadata": {},
   "outputs": [],
   "source": [
    "def tape_int_2_3_1(data):\n",
    "    \n",
    "    if len(data) == 0:\n",
    "        return 0\n",
    "    \n",
    "    elif len(data) == 1:\n",
    "        left_side_sum = 0\n",
    "        \n",
    "        right_side_sum = data[0]\n",
    "    else:\n",
    "    \n",
    "        left_side_sum = data[0]\n",
    "        \n",
    "        right_side_sum = sum(data[1:])\n",
    "    \n",
    "    min_diff = abs(left_side_sum - right_side_sum)\n",
    "    \n",
    "    pre_num = 0\n",
    "    \n",
    "    for i,num in enumerate(data):\n",
    "        if i < 2:\n",
    "            pre_num = num\n",
    "            continue\n",
    "        \n",
    "        left_side_sum += pre_num\n",
    "        \n",
    "        right_side_sum -= pre_num\n",
    "        \n",
    "        current_diff = abs( left_side_sum - right_side_sum)\n",
    "        \n",
    "        pre_num = num\n",
    "                           \n",
    "        if min_diff > current_diff:\n",
    "            min_diff = current_diff\n",
    "            \n",
    "    return min_diff"
   ]
  },
  {
   "cell_type": "code",
   "execution_count": 22,
   "metadata": {},
   "outputs": [],
   "source": [
    "def gen_list(start, stop ,size):\n",
    "    from random import randint\n",
    "    \n",
    "    values_list = list()\n",
    "    \n",
    "    for counter in xrange(size):\n",
    "        values_list.append(randint(start,stop))\n",
    "    \n",
    "    return values_list"
   ]
  },
  {
   "cell_type": "code",
   "execution_count": 23,
   "metadata": {},
   "outputs": [],
   "source": [
    "def test_cases_fn(test_cases_list = None):\n",
    "    \n",
    "    if test_cases_list is None:\n",
    "        test_cases_list = list()\n",
    "        \n",
    "    # zero element list\n",
    "    test_cases_list.append(random_test_data(-1000,1000,0))\n",
    "    \n",
    "    #single element list\n",
    "    test_cases_list.append(random_test_data(-1000,1000,1))\n",
    "    \n",
    "    #double element list\n",
    "    test_cases_list.append(random_test_data(-1000,1000,2))\n",
    "    \n",
    "    #simple case list positive\n",
    "    test_cases_list.append(random_test_data(0,1000,10))\n",
    "    \n",
    "    #simple case list negative\n",
    "    test_cases_list.append(random_test_data(-1000,0,10))\n",
    "    \n",
    "    #simple case list all\n",
    "    test_cases_list.append(random_test_data(-1000,1000,10))\n",
    "    \n",
    "    #medium case list positive\n",
    "    test_cases_list.append(random_test_data(0,1000,100))\n",
    "    \n",
    "    #medium case list negative\n",
    "    test_cases_list.append(random_test_data(-1000,0,100))\n",
    "    \n",
    "    #medium case list all\n",
    "    test_cases_list.append(random_test_data(-1000,1000,100))\n",
    "    \n",
    "    #large case list positive\n",
    "    test_cases_list.append(random_test_data(0,1000,1000))\n",
    "    \n",
    "    #large case list negative\n",
    "    test_cases_list.append(random_test_data(-1000,0,1000))\n",
    "    \n",
    "    #large case list all\n",
    "    test_cases_list.append(random_test_data(-1000,1000,1000))\n",
    "    \n",
    "    #extra large case list positive\n",
    "    test_cases_list.append(random_test_data(0,10000,10000))\n",
    "    \n",
    "    #extra large case list negative\n",
    "    test_cases_list.append(random_test_data(-10000,0,10000))\n",
    "    \n",
    "    #extra large case list all\n",
    "    test_cases_list.append(random_test_data(-10000,10000,10000))\n",
    "    \n",
    "    #binary case list positive\n",
    "    test_cases_list.append(gen_list(0,1,10))\n",
    "    \n",
    "    #binary case list negative\n",
    "    test_cases_list.append(gen_list(-1,0,10))\n",
    "    \n",
    "    #binary case list all\n",
    "    test_cases_list.append(gen_list(-1,1,10))\n",
    "    \n",
    "    #simple pyramid case list positive\n",
    "    \n",
    "    pyramid_arr = random_test_data(0,1000,10)\n",
    "    test_cases_list.append( (list(reversed(pyramid_arr)))[:-1] + pyramid_arr )\n",
    "    \n",
    "    #simple pyramid case list negative\n",
    "    pyramid_arr = random_test_data(-1000,0,10)\n",
    "    test_cases_list.append( (list(reversed(pyramid_arr)))[:-1] + pyramid_arr )\n",
    "    \n",
    "    #simple pyramid case list all\n",
    "    pyramid_arr = random_test_data(-1000,1000,10)\n",
    "    test_cases_list.append( (list(reversed(pyramid_arr)))[:-1] + pyramid_arr )\n",
    "    \n",
    "    #medium pyramid case list positive\n",
    "    pyramid_arr = random_test_data(0,1000,100)\n",
    "    test_cases_list.append( (list(reversed(pyramid_arr)))[:-1] + pyramid_arr )\n",
    "    \n",
    "    #medium pyramid case list negative\n",
    "    pyramid_arr = random_test_data(-1000,0,100)\n",
    "    test_cases_list.append( (list(reversed(pyramid_arr)))[:-1] + pyramid_arr )\n",
    "    \n",
    "    #medium pyramid case list all\n",
    "    pyramid_arr = random_test_data(-1000,1000,100)\n",
    "    test_cases_list.append( (list(reversed(pyramid_arr)))[:-1] + pyramid_arr )\n",
    "    \n",
    "    #large pyramid case list positive\n",
    "    pyramid_arr = random_test_data(0,1000,1000)\n",
    "    test_cases_list.append( (list(reversed(pyramid_arr)))[:-1] + pyramid_arr )\n",
    "    \n",
    "    #large pyramid case list negative\n",
    "    pyramid_arr = random_test_data(-1000,0,1000)\n",
    "    test_cases_list.append( (list(reversed(pyramid_arr)))[:-1] + pyramid_arr )\n",
    "    \n",
    "    #large pyramid case list all\n",
    "    pyramid_arr = random_test_data(-1000,1000,1000)\n",
    "    test_cases_list.append( (list(reversed(pyramid_arr)))[:-1] + pyramid_arr )\n",
    "    \n",
    "    #simple 1 case list positive\n",
    "    test_cases_list.append(gen_list(1,1,10))\n",
    "    \n",
    "    #simple 1 case list negative\n",
    "    test_cases_list.append(gen_list(-1,-1,10))\n",
    "    \n",
    "    #medium 1 case list positive\n",
    "    test_cases_list.append(gen_list(1,1,100))\n",
    "    \n",
    "    #medium 1 case list negative\n",
    "    test_cases_list.append(gen_list(-1,1,100))\n",
    "    \n",
    "    #large 1 case list positive\n",
    "    test_cases_list.append(gen_list(1,1,1000))\n",
    "    \n",
    "    #large 1 case list negative\n",
    "    test_cases_list.append(gen_list(-1,-1,1000))\n",
    "    \n",
    "    #extra large 1 case list positive\n",
    "    test_cases_list.append(gen_list(1,1,10000))\n",
    "    \n",
    "    #extra large 1 case list negative\n",
    "    test_cases_list.append(gen_list(-1,-1,10000))\n",
    "\n",
    "        \n",
    "    return test_cases_list"
   ]
  },
  {
   "cell_type": "code",
   "execution_count": 24,
   "metadata": {},
   "outputs": [
    {
     "name": "stdout",
     "output_type": "stream",
     "text": [
      "35\n"
     ]
    }
   ],
   "source": [
    "print len(test_cases_fn())"
   ]
  },
  {
   "cell_type": "code",
   "execution_count": 25,
   "metadata": {},
   "outputs": [
    {
     "name": "stdout",
     "output_type": "stream",
     "text": [
      "[0, 3, 4, 6, 2, 9, 7, 1, 5, 8]\n"
     ]
    }
   ],
   "source": [
    "print small_simple_data"
   ]
  },
  {
   "cell_type": "code",
   "execution_count": 26,
   "metadata": {},
   "outputs": [
    {
     "name": "stdout",
     "output_type": "stream",
     "text": [
      "[0, 3, 4, 6, 2, 9, 7, 1, 5, 8]\n[8, 5, 1, 7, 9, 2, 6, 4, 3, 0]\n[0, 3, 4, 6, 2, 9, 7, 1, 5, 8]\n[8, 5, 1, 7, 9, 2, 6, 4, 3, 0, 3, 4, 6, 2, 9, 7, 1, 5, 8]\n"
     ]
    }
   ],
   "source": [
    "list_1 =  small_simple_data\n",
    "\n",
    "print list_1\n",
    "\n",
    "list_1 = list(reversed(list_1))\n",
    "\n",
    "print list_1\n",
    "\n",
    "print small_simple_data\n",
    "\n",
    "pyramid = []\n",
    "#pyramid = small_simple_data.sort(reverse=True)\n",
    "\n",
    "pyramid = list_1[:-1] + small_simple_data\n",
    "\n",
    "print pyramid"
   ]
  },
  {
   "cell_type": "code",
   "execution_count": 27,
   "metadata": {},
   "outputs": [
    {
     "name": "stdout",
     "output_type": "stream",
     "text": [
      "[537, 509, 994, 931, 510, 700, 441, 477, 10, 488]\n[488, 10, 477, 441, 700, 510, 931, 994, 509, 537, 509, 994, 931, 510, 700, 441, 477, 10, 488]\n"
     ]
    }
   ],
   "source": [
    "pyramid_arr = random_test_data(0,1000,10)\n",
    " \n",
    "print pyramid_arr\n",
    " \n",
    "pyramid_test = (list(reversed(pyramid_arr)))[:-1] + pyramid_arr\n",
    " \n",
    "print pyramid_test"
   ]
  },
  {
   "cell_type": "code",
   "execution_count": 28,
   "metadata": {},
   "outputs": [
    {
     "name": "stdout",
     "output_type": "stream",
     "text": [
      "[()]\n[(-1,), (1,)]\n"
     ]
    }
   ],
   "source": [
    "import itertools\n",
    "\n",
    "#print list(itertools.product([-1, 1], repeat=5))\n",
    "\n",
    "for n in xrange(2):\n",
    "    print list(itertools.product([-1, 1], repeat=n))"
   ]
  },
  {
   "cell_type": "code",
   "execution_count": 29,
   "metadata": {},
   "outputs": [],
   "source": [
    "def test_cases_multiprocess(process_fn,counter):\n",
    "    \n",
    "    counter = 10   \n",
    "\n",
    "    from multiprocessing import Lock,Queue,Process, current_process, Manager\n",
    "    \n",
    "    \n",
    "    if __name__ == '__main__':\n",
    "        \n",
    "        manager1 = Manager()\n",
    "        \n",
    "        queue_1 = Queue()\n",
    "        \n",
    "        test_cases_list = manager1.list()\n",
    "        \n",
    "        \n",
    "           \n",
    "        for count in xrange(counter):\n",
    "            p_process_list = list()\n",
    "            \n",
    "            \n",
    "            p_process = Process(target= test_cases_fn, args= (test_cases_list))\n",
    "            \n",
    "            p_process.start()\n",
    "            \n",
    "            p_process_list.append(p_process)\n",
    "                \n",
    "            p_counter = 0\n",
    "       \n",
    "        for count in xrange(counter):\n",
    "            \n",
    "            p_process_list[p_counter].join()\n",
    "            \n",
    "            p_counter += 1\n",
    "            \n",
    "                \n",
    "                \n",
    "    return test_cases_list"
   ]
  },
  {
   "cell_type": "code",
   "execution_count": 30,
   "metadata": {},
   "outputs": [
    {
     "ename": "IndexError",
     "evalue": "list index out of range",
     "traceback": [
      "\u001b[1;31m---------------------------------------------------------------------------\u001b[0m",
      "\u001b[1;31mIndexError\u001b[0m                                Traceback (most recent call last)",
      "\u001b[1;32m<ipython-input-30-ef47ef872ca7>\u001b[0m in \u001b[0;36m<module>\u001b[1;34m()\u001b[0m\n\u001b[0;32m      3\u001b[0m \u001b[0mlen\u001b[0m\u001b[1;33m(\u001b[0m\u001b[0mtest_cases_fn\u001b[0m\u001b[1;33m(\u001b[0m\u001b[1;33m)\u001b[0m\u001b[1;33m)\u001b[0m\u001b[1;33m\u001b[0m\u001b[0m\n\u001b[0;32m      4\u001b[0m \u001b[1;33m\u001b[0m\u001b[0m\n\u001b[1;32m----> 5\u001b[1;33m \u001b[0mtest_cases_mp\u001b[0m \u001b[1;33m=\u001b[0m \u001b[0mtest_cases_multiprocess\u001b[0m\u001b[1;33m(\u001b[0m\u001b[0mtest_cases_fn\u001b[0m\u001b[1;33m(\u001b[0m\u001b[1;33m)\u001b[0m\u001b[1;33m,\u001b[0m\u001b[1;36m5\u001b[0m\u001b[1;33m)\u001b[0m\u001b[1;33m\u001b[0m\u001b[0m\n\u001b[0m",
      "\u001b[1;32m<ipython-input-29-1c9c1d7018aa>\u001b[0m in \u001b[0;36mtest_cases_multiprocess\u001b[1;34m(process_fn, counter)\u001b[0m\n\u001b[0;32m     30\u001b[0m         \u001b[1;32mfor\u001b[0m \u001b[0mcount\u001b[0m \u001b[1;32min\u001b[0m \u001b[0mxrange\u001b[0m\u001b[1;33m(\u001b[0m\u001b[0mcounter\u001b[0m\u001b[1;33m)\u001b[0m\u001b[1;33m:\u001b[0m\u001b[1;33m\u001b[0m\u001b[0m\n\u001b[0;32m     31\u001b[0m \u001b[1;33m\u001b[0m\u001b[0m\n\u001b[1;32m---> 32\u001b[1;33m             \u001b[0mp_process_list\u001b[0m\u001b[1;33m[\u001b[0m\u001b[0mp_counter\u001b[0m\u001b[1;33m]\u001b[0m\u001b[1;33m.\u001b[0m\u001b[0mjoin\u001b[0m\u001b[1;33m(\u001b[0m\u001b[1;33m)\u001b[0m\u001b[1;33m\u001b[0m\u001b[0m\n\u001b[0m\u001b[0;32m     33\u001b[0m \u001b[1;33m\u001b[0m\u001b[0m\n\u001b[0;32m     34\u001b[0m             \u001b[0mp_counter\u001b[0m \u001b[1;33m+=\u001b[0m \u001b[1;36m1\u001b[0m\u001b[1;33m\u001b[0m\u001b[0m\n",
      "\u001b[1;31mIndexError\u001b[0m: list index out of range"
     ],
     "output_type": "error"
    }
   ],
   "source": [
    "test_cases_fn_test = test_cases_fn()\n",
    "\n",
    "len(test_cases_fn())\n",
    "\n",
    "test_cases_mp = test_cases_multiprocess(test_cases_fn(),5)"
   ]
  },
  {
   "cell_type": "code",
   "execution_count": 31,
   "metadata": {},
   "outputs": [
    {
     "name": "stdout",
     "output_type": "stream",
     "text": [
      "[(-1, -1, -1), (-1, -1, 1), (-1, 1, -1), (-1, 1, 1), (1, -1, -1), (1, -1, 1), (1, 1, -1), (1, 1, 1)]\n[('9', '2'), ('9', '5'), ('9', '1'), ('9', '6'), ('9', '8'), ('9', '3'), ('9', '8'), ('9', '9'), ('9', '6'), ('9', '2'), ('9', '7'), ('9', '4'), ('9', '0'), ('2', '5'), ('2', '1'), ('2', '6'), ('2', '8'), ('2', '3'), ('2', '8'), ('2', '9'), ('2', '6'), ('2', '2'), ('2', '7'), ('2', '4'), ('2', '0'), ('5', '1'), ('5', '6'), ('5', '8'), ('5', '3'), ('5', '8'), ('5', '9'), ('5', '6'), ('5', '2'), ('5', '7'), ('5', '4'), ('5', '0'), ('1', '6'), ('1', '8'), ('1', '3'), ('1', '8'), ('1', '9'), ('1', '6'), ('1', '2'), ('1', '7'), ('1', '4'), ('1', '0'), ('6', '8'), ('6', '3'), ('6', '8'), ('6', '9'), ('6', '6'), ('6', '2'), ('6', '7'), ('6', '4'), ('6', '0'), ('8', '3'), ('8', '8'), ('8', '9'), ('8', '6'), ('8', '2'), ('8', '7'), ('8', '4'), ('8', '0'), ('3', '8'), ('3', '9'), ('3', '6'), ('3', '2'), ('3', '7'), ('3', '4'), ('3', '0'), ('8', '9'), ('8', '6'), ('8', '2'), ('8', '7'), ('8', '4'), ('8', '0'), ('9', '6'), ('9', '2'), ('9', '7'), ('9', '4'), ('9', '0'), ('6', '2'), ('6', '7'), ('6', '4'), ('6', '0'), ('2', '7'), ('2', '4'), ('2', '0'), ('7', '4'), ('7', '0'), ('4', '0')]\n"
     ]
    }
   ],
   "source": [
    "n = 3\n",
    "\n",
    "print list(itertools.product([-1, 1], repeat=n))\n",
    "\n",
    "\n",
    "\n",
    "print list(itertools.combinations('92516838962740',2))"
   ]
  },
  {
   "cell_type": "code",
   "execution_count": 32,
   "metadata": {},
   "outputs": [
    {
     "name": "stdout",
     "output_type": "stream",
     "text": [
      "[(0, 10, 2), (0, 2, 10), (10, 0, 2), (10, 2, 0), (2, 0, 10), (2, 10, 0)]\n(0, 10, 2)\n0\n10\n2\n(0, 2, 10)\n0\n2\n10\n(10, 0, 2)\n10\n0\n2\n(10, 2, 0)\n10\n2\n0\n(2, 0, 10)\n2\n0\n10\n(2, 10, 0)\n2\n10\n0\n"
     ]
    }
   ],
   "source": [
    "perm = list(itertools.permutations((0,10,2)))\n",
    "\n",
    "print perm\n",
    "\n",
    "for items in perm:\n",
    "    print items\n",
    "    for element in items:\n",
    "        print element"
   ]
  },
  {
   "cell_type": "code",
   "execution_count": 33,
   "metadata": {},
   "outputs": [
    {
     "name": "stdout",
     "output_type": "stream",
     "text": [
      "9\n"
     ]
    }
   ],
   "source": [
    "from random import randint\n",
    "\n",
    "print randint(0,10)"
   ]
  },
  {
   "cell_type": "code",
   "execution_count": 34,
   "metadata": {},
   "outputs": [
    {
     "name": "stdout",
     "output_type": "stream",
     "text": [
      "[1, -1, -1, -1, 0, -1, 0, 0, -1, 1]\n"
     ]
    }
   ],
   "source": [
    "list_test = list()\n",
    "size = 10\n",
    "\n",
    "for counter in xrange(size):\n",
    "    list_test.append(randint(-1,1))\n",
    "\n",
    "print list_test"
   ]
  },
  {
   "cell_type": "code",
   "execution_count": 35,
   "metadata": {},
   "outputs": [
    {
     "name": "stdout",
     "output_type": "stream",
     "text": [
      "[1945, 1197, -1196, -1089, 984, -713, -645, 1474, 976, -37]\n"
     ]
    }
   ],
   "source": [
    "print gen_list(-2000,2000,10)"
   ]
  },
  {
   "cell_type": "markdown",
   "metadata": {},
   "source": [
    "Multiprocessing: "
   ]
  },
  {
   "cell_type": "code",
   "execution_count": 36,
   "metadata": {},
   "outputs": [
    {
     "name": "stdout",
     "output_type": "stream",
     "text": [
      "1\n"
     ]
    },
    {
     "name": "stdout",
     "output_type": "stream",
     "text": [
      "2\n"
     ]
    },
    {
     "name": "stdout",
     "output_type": "stream",
     "text": [
      "3\n"
     ]
    },
    {
     "name": "stdout",
     "output_type": "stream",
     "text": [
      "4\n"
     ]
    },
    {
     "name": "stdout",
     "output_type": "stream",
     "text": [
      "5\n"
     ]
    },
    {
     "name": "stdout",
     "output_type": "stream",
     "text": [
      "6\n"
     ]
    },
    {
     "name": "stdout",
     "output_type": "stream",
     "text": [
      "7\n"
     ]
    },
    {
     "name": "stdout",
     "output_type": "stream",
     "text": [
      "8\n"
     ]
    },
    {
     "name": "stdout",
     "output_type": "stream",
     "text": [
      "9\n"
     ]
    },
    {
     "name": "stdout",
     "output_type": "stream",
     "text": [
      "10\n10\n0\n10\n[<Process(Process-13, started)>, <Process(Process-14, started)>, <Process(Process-15, started)>, <Process(Process-16, started)>, <Process(Process-17, started)>, <Process(Process-18, started)>, <Process(Process-19, started)>, <Process(Process-20, started)>, <Process(Process-21, started)>, <Process(Process-22, started)>]\n[[0]]\n10\n1\n10\n[<Process(Process-13, stopped)>, <Process(Process-14, stopped)>, <Process(Process-15, started)>, <Process(Process-16, started)>, <Process(Process-17, started)>, <Process(Process-18, started)>, <Process(Process-19, started)>, <Process(Process-20, started)>, <Process(Process-21, started)>, <Process(Process-22, started)>]\n[[0]]\n10\n2\n10\n[<Process(Process-13, stopped)>, <Process(Process-14, stopped)>, <Process(Process-15, started)>, <Process(Process-16, started)>, <Process(Process-17, started)>, <Process(Process-18, started)>, <Process(Process-19, started)>, <Process(Process-20, started)>, <Process(Process-21, started)>, <Process(Process-22, started)>]\n[[0]]\n10\n3\n10\n[<Process(Process-13, stopped)>, <Process(Process-14, stopped)>, <Process(Process-15, stopped)>, <Process(Process-16, stopped)>, <Process(Process-17, started)>, <Process(Process-18, started)>, <Process(Process-19, started)>, <Process(Process-20, started)>, <Process(Process-21, started)>, <Process(Process-22, started)>]\n[[0]]\n10\n4\n10\n[<Process(Process-13, stopped)>, <Process(Process-14, stopped)>, <Process(Process-15, stopped)>, <Process(Process-16, stopped)>, <Process(Process-17, started)>, <Process(Process-18, started)>, <Process(Process-19, started)>, <Process(Process-20, started)>, <Process(Process-21, started)>, <Process(Process-22, started)>]\n[[0]]\n10\n5\n10\n[<Process(Process-13, stopped)>, <Process(Process-14, stopped)>, <Process(Process-15, stopped)>, <Process(Process-16, stopped)>, <Process(Process-17, stopped)>, <Process(Process-18, stopped)>, <Process(Process-19, started)>, <Process(Process-20, started)>, <Process(Process-21, started)>, <Process(Process-22, started)>]\n[[0]]\n10\n6\n10\n[<Process(Process-13, stopped)>, <Process(Process-14, stopped)>, <Process(Process-15, stopped)>, <Process(Process-16, stopped)>, <Process(Process-17, stopped)>, <Process(Process-18, stopped)>, <Process(Process-19, started)>, <Process(Process-20, started)>, <Process(Process-21, started)>, <Process(Process-22, started)>]\n[[0]]\n10\n7\n10\n[<Process(Process-13, stopped)>, <Process(Process-14, stopped)>, <Process(Process-15, stopped)>, <Process(Process-16, stopped)>, <Process(Process-17, stopped)>, <Process(Process-18, stopped)>, <Process(Process-19, stopped)>, <Process(Process-20, started)>, <Process(Process-21, stopped)>, <Process(Process-22, started)>]\n[[0]]\n10\n8\n10\n[<Process(Process-13, stopped)>, <Process(Process-14, stopped)>, <Process(Process-15, stopped)>, <Process(Process-16, stopped)>, <Process(Process-17, stopped)>, <Process(Process-18, stopped)>, <Process(Process-19, stopped)>, <Process(Process-20, stopped)>, <Process(Process-21, stopped)>, <Process(Process-22, started)>]\n[[0]]\n10\n9\n10\n[<Process(Process-13, stopped)>, <Process(Process-14, stopped)>, <Process(Process-15, stopped)>, <Process(Process-16, stopped)>, <Process(Process-17, stopped)>, <Process(Process-18, stopped)>, <Process(Process-19, stopped)>, <Process(Process-20, stopped)>, <Process(Process-21, stopped)>, <Process(Process-22, started)>]\n[[0]]\n"
     ]
    }
   ],
   "source": [
    "counter = 10   \n",
    "\n",
    "from multiprocessing import Lock,Queue,Process, current_process, Manager\n",
    "\n",
    "\n",
    "\n",
    "if __name__ == '__main__':\n",
    "    \n",
    "    manager1 = Manager()\n",
    "    \n",
    "    queue_1 = Queue()\n",
    "    \n",
    "    test_cases_list = manager1.list([[0]])\n",
    "    \n",
    "    \n",
    "    p_process_list = list()\n",
    "    for count in xrange(counter):\n",
    "        #p_process_list = list()\n",
    "        \n",
    "        \n",
    "        p_process = Process(target= test_cases_fn, args= (test_cases_list))\n",
    "        \n",
    "        p_process.start()\n",
    "        \n",
    "        p_process_list.append(p_process)\n",
    "            \n",
    "        p_counter = 0\n",
    "        \n",
    "        print len(p_process_list)\n",
    "   \n",
    "    for count in xrange(counter):\n",
    "        \n",
    "        print counter\n",
    "        \n",
    "        print p_counter\n",
    "        \n",
    "        print len(p_process_list)\n",
    "        \n",
    "        print p_process_list\n",
    "        \n",
    "        p_process_list[p_counter].join()\n",
    "        \n",
    "        p_counter += 1\n",
    "        \n",
    "        print test_cases_list"
   ]
  },
  {
   "cell_type": "markdown",
   "metadata": {},
   "source": [
    "Multi processing V2."
   ]
  },
  {
   "cell_type": "markdown",
   "metadata": {},
   "source": [
    "Altering Test Case Function- Test Case Function V2"
   ]
  },
  {
   "cell_type": "code",
   "execution_count": 37,
   "metadata": {},
   "outputs": [],
   "source": [
    "def test_cases_fn_2(test_cases_dict):\n",
    "    \n",
    "    #test_cases_list = None\n",
    "    \n",
    "    input_case = None\n",
    "    \n",
    "    test_cases_list = test_cases_list[input_case] = list()\n",
    "            \n",
    "    input_case =  'zero_element'\n",
    "    \n",
    "    test_cases_list.append(random_test_data(-1000,1000,0))\n",
    "    \n",
    "    test_cases_dict[input_case] = test_cases_list\n",
    "    \n",
    "    input_case = 'single_element'\n",
    "    \n",
    "    test_cases_list.append(random_test_data(-1000,1000,1))\n",
    "    \n",
    "    test_cases_dict[input_case] = test_cases_list\n",
    "    \n",
    "    input_case = 'double_element'\n",
    "    test_cases_list.append(random_test_data(-1000,1000,2))\n",
    "    \n",
    "    test_cases_dict[input_case] = test_cases_list\n",
    "    \n",
    "    input_case = 'simple_case_positive'\n",
    "    \n",
    "    test_cases_list.append(random_test_data(0,1000,10))\n",
    "    \n",
    "    test_cases_dict[input_case] = test_cases_list\n",
    "    \n",
    "    input_case = 'simple_case_negative'\n",
    "    \n",
    "    test_cases_list.append(random_test_data(-1000,0,10))\n",
    "    \n",
    "    test_cases_dict[input_case] = test_cases_list\n",
    "    \n",
    "    input_case = 'simple_case_all'\n",
    "    \n",
    "    test_cases_list.append(random_test_data(-1000,1000,10))\n",
    "    \n",
    "    test_cases_dict[input_case] = test_cases_list\n",
    "    \n",
    "    input_case = 'medium_case_positive'\n",
    "    \n",
    "    test_cases_list.append(random_test_data(0,1000,100))\n",
    "    \n",
    "    test_cases_dict[input_case] = test_cases_list\n",
    "    \n",
    "    input_case = 'medium_case_negative'\n",
    "    \n",
    "    test_cases_list.append(random_test_data(-1000,0,100))\n",
    "    \n",
    "    test_cases_dict[input_case] = test_cases_list\n",
    "    \n",
    "    input_case = 'medium_case_all'\n",
    "    \n",
    "    test_cases_list.append(random_test_data(-1000,1000,100))\n",
    "    \n",
    "    test_cases_dict[input_case] = test_cases_list\n",
    "    \n",
    "    input_case = 'large_case_positive'\n",
    "    \n",
    "    test_cases_list.append(random_test_data(0,1000,1000))\n",
    "    \n",
    "    test_cases_dict[input_case] = test_cases_list\n",
    "    \n",
    "    input_case = 'large_case_negative'\n",
    "    \n",
    "    test_cases_list.append(random_test_data(-1000,0,1000))\n",
    "    \n",
    "    test_cases_dict[input_case] = test_cases_list\n",
    "    \n",
    "    input_case = 'large_case_all'\n",
    "    \n",
    "    test_cases_list.append(random_test_data(-1000,1000,1000))\n",
    "    \n",
    "    test_cases_dict[input_case] = test_cases_list\n",
    "    \n",
    "    input_case = 'extra_large_case_positive'\n",
    "    \n",
    "    test_cases_list.append(random_test_data(0,10000,10000))\n",
    "    \n",
    "    test_cases_dict[input_case] = test_cases_list\n",
    "    \n",
    "    input_case = 'extra_large_case_negative'\n",
    "    \n",
    "    test_cases_list.append(random_test_data(-10000,0,10000))\n",
    "    \n",
    "    test_cases_dict[input_case] = test_cases_list\n",
    "    \n",
    "    input_case = 'extra_large_case_all'\n",
    "    \n",
    "    test_cases_list.append(random_test_data(-10000,10000,10000))\n",
    "    \n",
    "    test_cases_dict[input_case] = test_cases_list\n",
    "    \n",
    "    input_case = 'binary_case_list_positive'\n",
    "    \n",
    "    test_cases_list.append(gen_list(0,1,10))\n",
    "    \n",
    "    test_cases_dict[input_case] = test_cases_list\n",
    "    \n",
    "    input_case = 'binary_case_negative'\n",
    "    \n",
    "    test_cases_list.append(gen_list(-1,0,10))\n",
    "    \n",
    "    test_cases_dict[input_case] = test_cases_list\n",
    "    \n",
    "    input_case = 'binary_case_all'\n",
    "    \n",
    "    test_cases_list.append(gen_list(-1,1,10))\n",
    "    \n",
    "    test_cases_dict[input_case] = test_cases_list\n",
    "    \n",
    "    input_case = 'simple_pyramid_case_positive'\n",
    "    \n",
    "    pyramid_arr = random_test_data(0,1000,10)\n",
    "    \n",
    "    test_cases_list.append( (list(reversed(pyramid_arr)))[:-1] + pyramid_arr )\n",
    "    \n",
    "    test_cases_dict[input_case] = test_cases_list\n",
    "    \n",
    "    input_case = 'simple_pyramid_case_negative'\n",
    "    \n",
    "    pyramid_arr = random_test_data(-1000,0,10)\n",
    "    \n",
    "    test_cases_list.append( (list(reversed(pyramid_arr)))[:-1] + pyramid_arr )\n",
    "    \n",
    "    test_cases_dict[input_case] = test_cases_list\n",
    "    \n",
    "    input_case = 'simple_pyramid_case_all'\n",
    "    \n",
    "    pyramid_arr = random_test_data(-1000,1000,10)\n",
    "    \n",
    "    test_cases_list.append( (list(reversed(pyramid_arr)))[:-1] + pyramid_arr )\n",
    "    \n",
    "    test_cases_dict[input_case] = test_cases_list\n",
    "    \n",
    "    input_case = 'medium_pyramid_case_positive'\n",
    "    \n",
    "    pyramid_arr = random_test_data(0,1000,100)\n",
    "    \n",
    "    test_cases_list.append( (list(reversed(pyramid_arr)))[:-1] + pyramid_arr )\n",
    "    \n",
    "    test_cases_dict[input_case] = test_cases_list\n",
    "    \n",
    "    input_case = 'medium_pyramid_case_negative'\n",
    "    \n",
    "    pyramid_arr = random_test_data(-1000,0,100)\n",
    "    \n",
    "    test_cases_list.append( (list(reversed(pyramid_arr)))[:-1] + pyramid_arr )\n",
    "    \n",
    "    test_cases_dict[input_case] = test_cases_list\n",
    "    \n",
    "    input_case = 'medium_pyramid_case_all'\n",
    "    \n",
    "    pyramid_arr = random_test_data(-1000,1000,100)\n",
    "    \n",
    "    test_cases_list.append( (list(reversed(pyramid_arr)))[:-1] + pyramid_arr )\n",
    "    \n",
    "    test_cases_dict[input_case] = test_cases_list\n",
    "    \n",
    "    input_case = 'large_pyramid_case_positive'\n",
    "    \n",
    "    pyramid_arr = random_test_data(0,1000,1000)\n",
    "    \n",
    "    test_cases_list.append( (list(reversed(pyramid_arr)))[:-1] + pyramid_arr )\n",
    "    \n",
    "    test_cases_dict[input_case] = test_cases_list\n",
    "    \n",
    "    input_case = 'large_pyramid_case_negative'\n",
    "    \n",
    "    pyramid_arr = random_test_data(-1000,0,1000)\n",
    "    \n",
    "    test_cases_list.append( (list(reversed(pyramid_arr)))[:-1] + pyramid_arr )\n",
    "    \n",
    "    test_cases_dict[input_case] = test_cases_list\n",
    "    \n",
    "    input_case = 'large_pyramid_case_all'\n",
    "    \n",
    "    pyramid_arr = random_test_data(-1000,1000,1000)\n",
    "    \n",
    "    test_cases_list.append( (list(reversed(pyramid_arr)))[:-1] + pyramid_arr )\n",
    "    \n",
    "    test_cases_dict[input_case] = test_cases_list\n",
    "    \n",
    "    input_case = 'simple_1_case__positive'\n",
    "    \n",
    "    test_cases_list.append(gen_list(1,1,10))\n",
    "    \n",
    "    test_cases_dict[input_case] = test_cases_list\n",
    "    \n",
    "    input_case = 'simple_1_case_negative'\n",
    "    \n",
    "    test_cases_list.append(gen_list(-1,-1,10))\n",
    "    \n",
    "    test_cases_dict[input_case] = test_cases_list\n",
    "    \n",
    "    input_case = 'medium_1_case_positive'\n",
    "    \n",
    "    test_cases_list.append(gen_list(1,1,100))\n",
    "    \n",
    "    test_cases_dict[input_case] = test_cases_list\n",
    "    \n",
    "    input_case = 'medium_1_case_negative'\n",
    "    \n",
    "    test_cases_list.append(gen_list(-1,1,100))\n",
    "    \n",
    "    test_cases_dict[input_case] = test_cases_list\n",
    "    \n",
    "    input_case = 'large_1_case_positive'\n",
    "    \n",
    "    test_cases_list.append(gen_list(1,1,1000))\n",
    "    \n",
    "    test_cases_dict[input_case] = test_cases_list\n",
    "    \n",
    "    input_case = 'large_1_case_negative'\n",
    "    \n",
    "    test_cases_list.append(gen_list(-1,-1,1000))\n",
    "    \n",
    "    test_cases_dict[input_case] = test_cases_list\n",
    "    \n",
    "    input_case = 'extra_large_1_case_positive'\n",
    "    \n",
    "    test_cases_list.append(gen_list(1,1,10000))\n",
    "    \n",
    "    test_cases_dict[input_case] = test_cases_list\n",
    "    \n",
    "    input_case = 'extra_large_1_case_negative'\n",
    "    \n",
    "    test_cases_list.append(gen_list(-1,-1,10000))\n",
    "    \n",
    "    test_cases_dict[input_case] = test_cases_list"
   ]
  },
  {
   "cell_type": "markdown",
   "metadata": {},
   "source": [
    "Multiprocessing V2. Tricking the Manager to run as a dict() , while storing list() within it."
   ]
  },
  {
   "cell_type": "code",
   "execution_count": 38,
   "metadata": {},
   "outputs": [],
   "source": [
    "def mysubprocess(shared_dict):\n",
    "    item = shared_dict['list_item'] = list()\n",
    "    item.append('test')\n",
    "    shared_dict['list_item'] = item\n",
    "    print 'subprocess:', shared_dict\n",
    "\n",
    "\n",
    "\n",
    "\n",
    "\n",
    "def test_cases_fn_3(test_cases_dict):\n",
    "    \n",
    "    input_case =  'zero_element'\n",
    "    \n",
    "    print random_test_data(-1000,1000,0)\n",
    "    \n",
    "    item = test_cases_dict[input_case] = list()\n",
    "    \n",
    "    item.append([random_test_data(-1000,1000,0)])\n",
    "    \n",
    "    test_cases_dict[input_case] = item\n",
    "    \n",
    "    print test_cases_dict\n",
    "    \n",
    "    #test_cases_list = random_test_data(-1000,1000,0)\n",
    "    \n",
    "    #input_case =  'zero_element'\n",
    "    \n",
    "    #test_cases_dict[input_case] = test_cases_list\n",
    "            \n",
    "    #input_case =  'zero_element'\n",
    "    \n",
    "    #test_cases_list.append(random_test_data(-1000,1000,0))\n",
    "    \n",
    "    #test_cases_dict[input_case] = test_cases_list"
   ]
  },
  {
   "cell_type": "markdown",
   "metadata": {},
   "source": [
    "http://stackoverflow.com/questions/35202278/cannot-append-items-to-multiprocessing-shared-list"
   ]
  },
  {
   "cell_type": "code",
   "execution_count": 39,
   "metadata": {},
   "outputs": [
    {
     "ename": "SyntaxError",
     "evalue": "invalid syntax (<ipython-input-39-e8030a12082f>, line 19)",
     "traceback": [
      "\u001b[1;36m  File \u001b[1;32m\"<ipython-input-39-e8030a12082f>\"\u001b[1;36m, line \u001b[1;32m19\u001b[0m\n\u001b[1;33m    p_process = Process(target= , args= (test_cases_dict,))\u001b[0m\n\u001b[1;37m                                ^\u001b[0m\n\u001b[1;31mSyntaxError\u001b[0m\u001b[1;31m:\u001b[0m invalid syntax\n"
     ],
     "output_type": "error"
    }
   ],
   "source": [
    "counter = 1\n",
    "\n",
    "from multiprocessing import Lock,Queue,Process, current_process, Manager\n",
    "\n",
    "\n",
    "\n",
    "if __name__ == '__main__':\n",
    "    \n",
    "    manager1 = Manager()\n",
    "    \n",
    "    queue_1 = Queue()\n",
    "    \n",
    "    test_cases_dict = manager1.dict()\n",
    "    \n",
    "    \n",
    "    p_process_list = list()\n",
    "    for count in xrange(counter):\n",
    "        \n",
    "        p_process = Process(target= , args= (test_cases_dict,))\n",
    "        \n",
    "        p_process.start()\n",
    "        \n",
    "        p_process_list.append(p_process)\n",
    "            \n",
    "        p_counter = 0\n",
    "        \n",
    "        print len(p_process_list)\n",
    "        \n",
    "        #test_cases_dict.clear()\n",
    "   \n",
    "    for count in xrange(counter):\n",
    "        \n",
    "        print counter\n",
    "        \n",
    "        print p_counter\n",
    "        \n",
    "        print len(p_process_list)\n",
    "        \n",
    "        print p_process_list\n",
    "        \n",
    "        p_process_list[p_counter].join()\n",
    "        #test_cases_dict.clear()\n",
    "        \n",
    "        p_counter += 1\n",
    "        \n",
    "        print test_cases_dict"
   ]
  },
  {
   "cell_type": "code",
   "execution_count": 40,
   "metadata": {},
   "outputs": [
    {
     "name": "stdout",
     "output_type": "stream",
     "text": [
      "[5, 8, 4, 2, 3, 9, 0, 6, 1, 7]\n"
     ]
    }
   ],
   "source": [
    "print random_test_data(0,10,10)"
   ]
  },
  {
   "cell_type": "markdown",
   "metadata": {},
   "source": [
    "Multi Processing V3."
   ]
  },
  {
   "cell_type": "code",
   "execution_count": 71,
   "metadata": {},
   "outputs": [
    {
     "name": "stdout",
     "output_type": "stream",
     "text": [
      "1\n"
     ]
    },
    {
     "name": "stdout",
     "output_type": "stream",
     "text": [
      "2\n"
     ]
    },
    {
     "name": "stdout",
     "output_type": "stream",
     "text": [
      "3\n"
     ]
    },
    {
     "name": "stdout",
     "output_type": "stream",
     "text": [
      "4\n"
     ]
    },
    {
     "name": "stdout",
     "output_type": "stream",
     "text": [
      "5\n"
     ]
    },
    {
     "name": "stdout",
     "output_type": "stream",
     "text": [
      "6\n"
     ]
    },
    {
     "name": "stdout",
     "output_type": "stream",
     "text": [
      "7\n"
     ]
    },
    {
     "name": "stdout",
     "output_type": "stream",
     "text": [
      "8\n"
     ]
    },
    {
     "name": "stdout",
     "output_type": "stream",
     "text": [
      "9\n"
     ]
    },
    {
     "name": "stdout",
     "output_type": "stream",
     "text": [
      "10\n10\n0\n10\n[<Process(Process-60, stopped)>, <Process(Process-61, stopped)>, <Process(Process-62, stopped)>, <Process(Process-63, stopped)>, <Process(Process-64, stopped)>, <Process(Process-65, stopped)>, <Process(Process-66, stopped)>, <Process(Process-67, stopped)>, <Process(Process-68, started)>, <Process(Process-69, started)>]\n10\n1\n10\n[<Process(Process-60, stopped)>, <Process(Process-61, stopped)>, <Process(Process-62, stopped)>, <Process(Process-63, stopped)>, <Process(Process-64, stopped)>, <Process(Process-65, stopped)>, <Process(Process-66, stopped)>, <Process(Process-67, stopped)>, <Process(Process-68, started)>, <Process(Process-69, started)>]\n10\n2\n10\n[<Process(Process-60, stopped)>, <Process(Process-61, stopped)>, <Process(Process-62, stopped)>, <Process(Process-63, stopped)>, <Process(Process-64, stopped)>, <Process(Process-65, stopped)>, <Process(Process-66, stopped)>, <Process(Process-67, stopped)>, <Process(Process-68, started)>, <Process(Process-69, started)>]\n10\n3\n10\n[<Process(Process-60, stopped)>, <Process(Process-61, stopped)>, <Process(Process-62, stopped)>, <Process(Process-63, stopped)>, <Process(Process-64, stopped)>, <Process(Process-65, stopped)>, <Process(Process-66, stopped)>, <Process(Process-67, stopped)>, <Process(Process-68, started)>, <Process(Process-69, started)>]\n10\n4\n10\n[<Process(Process-60, stopped)>, <Process(Process-61, stopped)>, <Process(Process-62, stopped)>, <Process(Process-63, stopped)>, <Process(Process-64, stopped)>, <Process(Process-65, stopped)>, <Process(Process-66, stopped)>, <Process(Process-67, stopped)>, <Process(Process-68, started)>, <Process(Process-69, started)>]\n10\n5\n10\n[<Process(Process-60, stopped)>, <Process(Process-61, stopped)>, <Process(Process-62, stopped)>, <Process(Process-63, stopped)>, <Process(Process-64, stopped)>, <Process(Process-65, stopped)>, <Process(Process-66, stopped)>, <Process(Process-67, stopped)>, <Process(Process-68, started)>, <Process(Process-69, started)>]\n10\n6\n10\n[<Process(Process-60, stopped)>, <Process(Process-61, stopped)>, <Process(Process-62, stopped)>, <Process(Process-63, stopped)>, <Process(Process-64, stopped)>, <Process(Process-65, stopped)>, <Process(Process-66, stopped)>, <Process(Process-67, stopped)>, <Process(Process-68, started)>, <Process(Process-69, started)>]\n10\n7\n10\n[<Process(Process-60, stopped)>, <Process(Process-61, stopped)>, <Process(Process-62, stopped)>, <Process(Process-63, stopped)>, <Process(Process-64, stopped)>, <Process(Process-65, stopped)>, <Process(Process-66, stopped)>, <Process(Process-67, stopped)>, <Process(Process-68, started)>, <Process(Process-69, started)>]\n10\n8\n10\n[<Process(Process-60, stopped)>, <Process(Process-61, stopped)>, <Process(Process-62, stopped)>, <Process(Process-63, stopped)>, <Process(Process-64, stopped)>, <Process(Process-65, stopped)>, <Process(Process-66, stopped)>, <Process(Process-67, stopped)>, <Process(Process-68, started)>, <Process(Process-69, started)>]\n10\n9\n10\n[<Process(Process-60, stopped)>, <Process(Process-61, stopped)>, <Process(Process-62, stopped)>, <Process(Process-63, stopped)>, <Process(Process-64, stopped)>, <Process(Process-65, stopped)>, <Process(Process-66, stopped)>, <Process(Process-67, stopped)>, <Process(Process-68, stopped)>, <Process(Process-69, started)>]\n[[10, 6, 3, 10, 5, 9, 3, 2, 9, 7], [9, 1, 5, 5, 2, 2, 8, 3, 5, 5], [1, 10, 9, 2, 1, 7, 1, 9, 10, 8], [4, 2, 3, 3, 1, 4, 8, 3, 8, 6], [5, 3, 8, 2, 7, 7, 10, 10, 6, 5], [8, 3, 5, 6, 7, 7, 6, 8, 5, 7], [3, 1, 2, 2, 6, 6, 8, 7, 4, 5], [1, 6, 9, 10, 3, 2, 1, 3, 1, 5], [3, 8, 5, 7, 7, 7, 9, 6, 9, 1], [2, 6, 7, 5, 6, 5, 6, 3, 5, 7]]\n"
     ]
    }
   ],
   "source": [
    "counter = 10\n",
    "\n",
    "from multiprocessing import Lock,Queue,Process, current_process, Manager\n",
    "\n",
    "from random import randint\n",
    "\n",
    "def gen_list_mp(start, stop ,\n",
    "                input_case_size_name,\n",
    "                input_case_type_name,\n",
    "                test_cases_list):\n",
    "    \n",
    "    from random import randint\n",
    "    \n",
    "    values_list = list()\n",
    "    \n",
    "    input_case_size = { \n",
    "        \n",
    "        \"zero\" : 0,\n",
    "        \n",
    "        \"single\" : 1,\n",
    "        \n",
    "        \"double\" : 2,\n",
    "        \n",
    "        \"simple\" : 10,\n",
    "        \n",
    "        \"medium\" : 100,\n",
    "        \n",
    "        \"large\" : 1000,\n",
    "        \n",
    "        \"extra_large\" : 10000\n",
    "    \n",
    "    }\n",
    "    \n",
    "    \n",
    "    input_case_type= {\n",
    "        \n",
    "        \"pyramid\" : 1,\n",
    "        \n",
    "        \"none\" : 0\n",
    "    }\n",
    "    \n",
    "    #from random import randint\n",
    "    \n",
    "    #values_list = list()\n",
    "    \n",
    "    for num in xrange(input_case_size[input_case_size_name]):\n",
    "        values_list.append(randint(start,stop))\n",
    "    \n",
    "    if input_case_type[input_case_type_name] == 1:\n",
    "        arr = values_list\n",
    "        \n",
    "        #pyramid_arr = list()\n",
    "        \n",
    "        values_list = (\n",
    "            (list(reversed(arr)))[:-1] + arr )\n",
    "    \n",
    "        \n",
    "    test_cases_list.append(values_list)\n",
    "    \n",
    "\n",
    "if __name__ == '__main__':\n",
    "    \n",
    "    manager1 = Manager()\n",
    "    \n",
    "    queue_1 = Queue()\n",
    "    \n",
    "    test_cases_list = manager1.list()\n",
    "    \n",
    "    \n",
    "    p_process_list = list()\n",
    "    for count in xrange(counter):\n",
    "        \n",
    "        p_process = Process(target= gen_list_mp , args= (1,10,\"simple\",\"none\",test_cases_list))\n",
    "        \n",
    "        p_process.start()\n",
    "        \n",
    "        p_process_list.append(p_process)\n",
    "            \n",
    "        p_counter = 0\n",
    "        \n",
    "        print len(p_process_list)\n",
    "        \n",
    "        #test_cases_dict.clear()\n",
    "   \n",
    "    for count in xrange(counter):\n",
    "        \n",
    "        print counter\n",
    "        \n",
    "        print p_counter\n",
    "        \n",
    "        print len(p_process_list)\n",
    "        \n",
    "        print p_process_list\n",
    "        \n",
    "        p_process_list[p_counter].join()\n",
    "        #test_cases_dict.clear()\n",
    "        \n",
    "        p_counter += 1\n",
    "        \n",
    "print test_cases_list"
   ]
  },
  {
   "cell_type": "code",
   "execution_count": 42,
   "metadata": {},
   "outputs": [
    {
     "name": "stdout",
     "output_type": "stream",
     "text": [
      "[]\n"
     ]
    }
   ],
   "source": [
    "print gen_list(0,0,0)"
   ]
  },
  {
   "cell_type": "code",
   "execution_count": 43,
   "metadata": {},
   "outputs": [],
   "source": [
    "test_dict = {\"zero_element\" : random_test_data(-1000,1000,0)}"
   ]
  },
  {
   "cell_type": "code",
   "execution_count": 44,
   "metadata": {},
   "outputs": [
    {
     "name": "stdout",
     "output_type": "stream",
     "text": [
      "[]\n"
     ]
    }
   ],
   "source": [
    "a = test_dict[\"zero_element\"]\n",
    "\n",
    "print a"
   ]
  },
  {
   "cell_type": "code",
   "execution_count": 49,
   "metadata": {},
   "outputs": [
    {
     "name": "stdout",
     "output_type": "stream",
     "text": [
      "1\n"
     ]
    }
   ],
   "source": [
    "test_dict_1 = { \"test\": [1]}\n",
    "\n",
    "print (test_dict_1 [\"test\"] [0])"
   ]
  },
  {
   "cell_type": "code",
   "execution_count": 54,
   "metadata": {},
   "outputs": [
    {
     "name": "stdout",
     "output_type": "stream",
     "text": [
      "[1, 2, 3, 4, 5, 6, 7]\n[7, 6, 5, 4, 3, 2, 1, 2, 3, 4, 5, 6, 7]\n"
     ]
    }
   ],
   "source": [
    "test_arr = [1,2,3,4,5,6,7]\n",
    " \n",
    "print test_arr\n",
    "\n",
    "arr = test_arr\n",
    "        \n",
    "pyramid_arr = list()\n",
    "        \n",
    "pyramid_arr = (\n",
    "            (list(reversed(arr)))[:-1] + arr )\n",
    "\n",
    "print pyramid_arr"
   ]
  },
  {
   "cell_type": "markdown",
   "metadata": {},
   "source": [
    "MP V3.1"
   ]
  },
  {
   "cell_type": "code",
   "execution_count": 91,
   "metadata": {},
   "outputs": [],
   "source": [
    "def tape_int_2_3_2(data):\n",
    "    \n",
    "    sums_list = list()\n",
    "    \n",
    "    if len(data) == 0:\n",
    "        return 0\n",
    "    \n",
    "    elif len(data) == 1:\n",
    "        left_side_sum = 0\n",
    "        \n",
    "        right_side_sum = data[0]\n",
    "    else:\n",
    "    \n",
    "        left_side_sum = data[0]\n",
    "        \n",
    "        right_side_sum = sum(data[1:])\n",
    "    \n",
    "    min_diff = abs(left_side_sum - right_side_sum)\n",
    "    \n",
    "    sums_list.append([left_side_sum,right_side_sum,min_diff])\n",
    "    \n",
    "    pre_num = 0\n",
    "    \n",
    "    for i,num in enumerate(data):\n",
    "        if i < 2:\n",
    "            pre_num = num\n",
    "            continue\n",
    "        \n",
    "        left_side_sum += pre_num\n",
    "        \n",
    "        right_side_sum -= pre_num\n",
    "        \n",
    "        current_diff = abs( left_side_sum - right_side_sum)\n",
    "        \n",
    "        sums_list.append([left_side_sum,right_side_sum,current_diff])\n",
    "        \n",
    "        pre_num = num\n",
    "                           \n",
    "        if min_diff > current_diff:\n",
    "            min_diff = current_diff\n",
    "    \n",
    "    sums_list.append(min_diff)\n",
    "            \n",
    "    return sums_list"
   ]
  },
  {
   "cell_type": "code",
   "execution_count": 97,
   "metadata": {},
   "outputs": [
    {
     "name": "stdout",
     "output_type": "stream",
     "text": [
      "[[6, 3, 2, 9, 1, 5, 5, 8, 7, 5, 7, 8, 5, 5, 1, 9, 2, 3, 6], [2, 4, 4, 2, 4, 1, 9, 4, 5, 2, 5, 4, 9, 1, 4, 2, 4, 4, 2], [6, 8, 8, 10, 3, 9, 1, 7, 9, 4, 9, 7, 1, 9, 3, 10, 8, 8, 6], [7, 10, 1, 6, 1, 7, 10, 9, 1, 7, 1, 9, 10, 7, 1, 6, 1, 10, 7], [5, 8, 1, 9, 3, 9, 8, 8, 6, 10, 6, 8, 8, 9, 3, 9, 1, 8, 5], [10, 4, 8, 6, 10, 5, 10, 8, 6, 9, 6, 8, 10, 5, 10, 6, 8, 4, 10], [2, 1, 5, 2, 3, 4, 7, 2, 1, 3, 1, 2, 7, 4, 3, 2, 5, 1, 2], [5, 10, 7, 4, 6, 5, 4, 7, 9, 9, 9, 7, 4, 5, 6, 4, 7, 10, 5], [10, 2, 10, 4, 7, 4, 5, 5, 3, 7, 3, 5, 5, 4, 7, 4, 10, 2, 10], [4, 8, 2, 5, 6, 1, 9, 1, 1, 2, 1, 1, 9, 1, 6, 5, 2, 8, 4]]\n"
     ]
    }
   ],
   "source": [
    "counter = 10\n",
    "\n",
    "from multiprocessing import Lock,Queue,Process, current_process, Manager\n",
    "\n",
    "from random import randint\n",
    "\n",
    "def gen_list_mp(start, stop ,\n",
    "                input_case_size_name,\n",
    "                input_case_type_name,\n",
    "                test_cases_list):\n",
    "    \n",
    "    from random import randint\n",
    "    \n",
    "    values_list = list()\n",
    "    \n",
    "    input_case_size = { \n",
    "        \n",
    "        \"zero\" : 0,\n",
    "        \n",
    "        \"single\" : 1,\n",
    "        \n",
    "        \"double\" : 2,\n",
    "        \n",
    "        \"simple\" : 10,\n",
    "        \n",
    "        \"medium\" : 100,\n",
    "        \n",
    "        \"large\" : 1000,\n",
    "        \n",
    "        \"extra_large\" : 10000\n",
    "    \n",
    "    }\n",
    "    \n",
    "    \n",
    "    input_case_type= {\n",
    "        \n",
    "        \"pyramid\" : 1,\n",
    "        \n",
    "        \"none\" : 0\n",
    "    }\n",
    "    \n",
    " \n",
    "   \n",
    "    for num in xrange(input_case_size[input_case_size_name]):\n",
    "        values_list.append(randint(start,stop))\n",
    "    \n",
    "    if input_case_type[input_case_type_name] == 1:\n",
    "        arr = values_list\n",
    "        \n",
    "        #pyramid_arr = list()\n",
    "        \n",
    "        values_list = (\n",
    "            (list(reversed(arr)))[:-1] + arr )\n",
    "    \n",
    "        \n",
    "    test_cases_list.append(values_list)\n",
    "    \n",
    "\n",
    "if __name__ == '__main__':\n",
    "    \n",
    "    manager1 = Manager()\n",
    "    \n",
    "    queue_1 = Queue()\n",
    "    \n",
    "    test_cases_list = manager1.list()\n",
    "    \n",
    "    \n",
    "    p_process_list = list()\n",
    "    for count in xrange(counter):\n",
    "        \n",
    "        p_process = Process(target= gen_list_mp , args= (1,10,\"simple\",\"pyramid\",test_cases_list))\n",
    "        \n",
    "        p_process.start()\n",
    "        \n",
    "        p_process_list.append(p_process)\n",
    "            \n",
    "        p_counter = 0\n",
    "           \n",
    "    for count in xrange(counter):\n",
    "        p_process_list[p_counter].join()\n",
    "        \n",
    "        p_counter += 1\n",
    "        \n",
    "print test_cases_list"
   ]
  },
  {
   "cell_type": "code",
   "execution_count": 106,
   "metadata": {},
   "outputs": [
    {
     "name": "stdout",
     "output_type": "stream",
     "text": [
      "[[6, 91, 85], [9, 88, 79], [11, 86, 75], [20, 77, 57], [21, 76, 55], [26, 71, 45], [31, 66, 35], [39, 58, 19], [46, 51, 5], [51, 46, 5], [58, 39, 19], [66, 31, 35], [71, 26, 45], [76, 21, 55], [77, 20, 57], [86, 11, 75], [88, 9, 79], [91, 6, 85], 5]\n"
     ]
    }
   ],
   "source": [
    "test_tape = list()\n",
    "\n",
    "for case in test_cases_list:\n",
    "    #print case\n",
    "\n",
    "    test_tape.append(tape_int_2_3_2(case))\n",
    "    \n",
    "print test_tape[0]\n",
    "\n",
    "    \n",
    "\n",
    "#print test_tape[:-1]\n",
    "\n"
   ]
  },
  {
   "cell_type": "markdown",
   "metadata": {},
   "source": [
    "Linear Regression"
   ]
  },
  {
   "cell_type": "code",
   "execution_count": null,
   "metadata": {},
   "outputs": [],
   "source": [
    "def lin_reg(data):\n",
    "    \"\"\"\n",
    "    Analysis Training set results vs testing results\n",
    "    :return: \n",
    "    \"\"\"\n",
    "    "
   ]
  }
 ],
 "metadata": {
  "kernelspec": {
   "display_name": "Python 2",
   "language": "python",
   "name": "python2"
  },
  "language_info": {
   "codemirror_mode": {
    "name": "ipython",
    "version": 2.0
   },
   "file_extension": ".py",
   "mimetype": "text/x-python",
   "name": "python",
   "nbconvert_exporter": "python",
   "pygments_lexer": "ipython2",
   "version": "2.7.6"
  }
 },
 "nbformat": 4,
 "nbformat_minor": 0
}