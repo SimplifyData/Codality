{
 "cells": [
  {
   "cell_type": "markdown",
   "metadata": {
    "collapsed": true
   },
   "source": [
    "Write a function:\n",
    "\n",
    "    def solution(A)\n",
    "\n",
    "that, given a non-empty zero-indexed array A of N integers, returns the minimal difference that can be achieved.\n",
    "\n",
    "For example, given:\n",
    "  A[0] = 3\n",
    "  A[1] = 1\n",
    "  A[2] = 2\n",
    "  A[3] = 4\n",
    "  A[4] = 3\n",
    "\n",
    "the function should return 1, as explained above.\n",
    "\n",
    "Assume that:\n",
    "\n",
    "        N is an integer within the range [2..100,000];\n",
    "        each element of array A is an integer within the range [−1,000..1,000].\n",
    "\n",
    "Complexity:\n",
    "\n",
    "        expected worst-case time complexity is O(N);\n",
    "        expected worst-case space complexity is O(N), beyond input storage (not counting the storage required for input arguments).\n",
    "\n",
    "Elements of input arrays can be modified."
   ]
  },
  {
   "cell_type": "markdown",
   "metadata": {},
   "source": [
    "# Defining the Function:\n",
    "\n",
    "-----------------------------------------------------------\n",
    "## left_side_sum = P[0:N-1]\n",
    "## right_side_sum = P[N:]\n",
    "\n",
    "----------------------------------------------------------\n",
    "\n",
    "## Difference = absolute(left_side_sum - right_side_sum)\n",
    "\n",
    "------------------------------------------------------------\n",
    "\n",
    "# Range:\n",
    "\n",
    "## N = [2,100,000]\n",
    "## P = [-1000, 1000]\n",
    "\n",
    "-------------------------------------------------------------\n",
    "\n",
    "# Complexity\n",
    "\n",
    "## Time = O^n\n",
    "## Space = O^n\n",
    "\n",
    "--------------------------------------------------------------\n",
    "\n",
    "# Answer:\n",
    "\n",
    "## Minimum_Difference\n",
    "\n",
    "----------------------------------------------------------------"
   ]
  },
  {
   "cell_type": "code",
   "execution_count": 2,
   "metadata": {},
   "outputs": [],
   "source": [
    "A = [3,1,2,4,3]"
   ]
  },
  {
   "cell_type": "markdown",
   "metadata": {},
   "source": [
    "V1. broken Testing. Changing the iteration values to be used."
   ]
  },
  {
   "cell_type": "markdown",
   "metadata": {},
   "source": [
    "Designing the function"
   ]
  },
  {
   "cell_type": "code",
   "execution_count": 4,
   "metadata": {},
   "outputs": [],
   "source": [
    "def tape_int_1(data):\n",
    "    \n",
    "    left_side_sum = 0\n",
    "    \n",
    "    right_side_sum = sum(data[:])\n",
    "    \n",
    "    min_diff = abs(left_side_sum - right_side_sum)\n",
    "    \n",
    "    print \"\\n initial min_diff: \", min_diff, \n",
    "    \n",
    "    print \"\\ninitial left side sum: \", left_side_sum\n",
    "    \n",
    "    print \"initial right side sum: \", right_side_sum , \"\\n\"\n",
    "    \n",
    "    for counter,num in enumerate(data):\n",
    "        if counter == 0: continue\n",
    "        pre_num = data[counter-1]\n",
    "        \n",
    "        left_side_sum += pre_num\n",
    "        \n",
    "        right_side_sum -= pre_num\n",
    "        \n",
    "        right_side_sum += num\n",
    "        \n",
    "        print \"\\n pre_num: \", pre_num\n",
    "        \n",
    "        print \"current num: \", num\n",
    "        \n",
    "        print \"left_sum: \", left_side_sum\n",
    "        \n",
    "        print \"right_sum: \", right_side_sum, \"\\n\"\n",
    "        \n",
    "        current_diff = abs( left_side_sum - right_side_sum)\n",
    "                           \n",
    "        print \"current diff: \", current_diff, \"\\n\"\n",
    "        \n",
    "        if min_diff > current_diff:\n",
    "            min_diff = current_diff\n",
    "        \n",
    "        print \"\\n current min_diff: \", min_diff\n",
    "        \n",
    "        #print \"pre_num: \", pre_num\n",
    "        \n",
    "        #print \"current num: \", num\n",
    "        \n",
    "        #print \"left_sum: \", left_side_sum\n",
    "        \n",
    "        #print \"right_sum: \", right_side_sum\n",
    "                \n",
    "        #print \"current diff: \", current_diff, \"\\n\"\n",
    "        \n",
    "        if counter >= len(data) -1:\n",
    "            return min_diff"
   ]
  },
  {
   "cell_type": "code",
   "execution_count": 50,
   "metadata": {},
   "outputs": [
    {
     "name": "stdout",
     "output_type": "stream",
     "text": [
      "[3, 1, 2, 4, 3]\n\n initial min_diff:  13 \ninitial left side sum:  0\ninitial right side sum:  13 \n\n\n pre_num:  3\ncurrent num:  1\nleft_sum:  3\nright_sum:  11 \n\ncurrent diff:  8 \n\n\n current min_diff:  8\n\n pre_num:  1\ncurrent num:  2\nleft_sum:  4\nright_sum:  12 \n\ncurrent diff:  8 \n\n\n current min_diff:  8\n\n pre_num:  2\ncurrent num:  4\nleft_sum:  6\nright_sum:  14 \n\ncurrent diff:  8 \n\n\n current min_diff:  8\n\n pre_num:  4\ncurrent num:  3\nleft_sum:  10\nright_sum:  13 \n\ncurrent diff:  3 \n\n\n current min_diff:  3\n3\n"
     ]
    }
   ],
   "source": [
    "print A\n",
    "\n",
    "print tape_int_1(A)"
   ]
  },
  {
   "cell_type": "markdown",
   "metadata": {},
   "source": [
    "V2."
   ]
  },
  {
   "cell_type": "code",
   "execution_count": 7,
   "metadata": {},
   "outputs": [],
   "source": [
    "def tape_int_2(data):\n",
    "    \n",
    "    left_side_sum = 0\n",
    "    \n",
    "    right_side_sum = sum(data[:])\n",
    "    \n",
    "    min_diff = abs(left_side_sum - right_side_sum)\n",
    "    \n",
    "    print \"\\n initial min_diff: \", min_diff, \n",
    "    \n",
    "    print \"\\ninitial left side sum: \", left_side_sum\n",
    "    \n",
    "    print \"initial right side sum: \", right_side_sum , \"\\n\"\n",
    "    \n",
    "    for num in data:\n",
    "        #if counter == 0: continue\n",
    "        #pre_num = data[counter-1]\n",
    "        \n",
    "        left_side_sum += num\n",
    "        \n",
    "        right_side_sum -= num\n",
    "        \n",
    "        #right_side_sum += num\n",
    "        \n",
    "        #print \"\\n pre_num: \", num\n",
    "        \n",
    "        print \"current num: \", num\n",
    "        \n",
    "        print \"left_sum: \", left_side_sum\n",
    "        \n",
    "        print \"right_sum: \", right_side_sum, \"\\n\"\n",
    "        \n",
    "        current_diff = abs( left_side_sum - right_side_sum)\n",
    "                           \n",
    "        print \"current diff: \", current_diff, \"\\n\"\n",
    "        \n",
    "        if min_diff > current_diff:\n",
    "            min_diff = current_diff\n",
    "        \n",
    "        print \"\\n current min_diff: \", min_diff\n",
    "        \n",
    "        #print \"pre_num: \", pre_num\n",
    "        \n",
    "        #print \"current num: \", num\n",
    "        \n",
    "        #print \"left_sum: \", left_side_sum\n",
    "        \n",
    "        #print \"right_sum: \", right_side_sum\n",
    "                \n",
    "        #print \"current diff: \", current_diff, \"\\n\"\n",
    "        \n",
    "        #if counter >= len(data) -1:\n",
    "    return min_diff"
   ]
  },
  {
   "cell_type": "code",
   "execution_count": 8,
   "metadata": {},
   "outputs": [
    {
     "name": "stdout",
     "output_type": "stream",
     "text": [
      "[3, 1, 2, 4, 3]\n\n initial min_diff:  13 \ninitial left side sum:  0\ninitial right side sum:  13 \n\ncurrent num:  3\nleft_sum:  3\nright_sum:  10 \n\ncurrent diff:  7 \n\n\n current min_diff:  7\ncurrent num:  1\nleft_sum:  4\nright_sum:  9 \n\ncurrent diff:  5 \n\n\n current min_diff:  5\ncurrent num:  2\nleft_sum:  6\nright_sum:  7 \n\ncurrent diff:  1 \n\n\n current min_diff:  1\ncurrent num:  4\nleft_sum:  10\nright_sum:  3 \n\ncurrent diff:  7 \n\n\n current min_diff:  1\ncurrent num:  3\nleft_sum:  13\nright_sum:  0 \n\ncurrent diff:  13 \n\n\n current min_diff:  1\n1\n"
     ]
    }
   ],
   "source": [
    "print A\n",
    "print tape_int_2(A)"
   ]
  },
  {
   "cell_type": "markdown",
   "metadata": {},
   "source": [
    "For example, given:\n",
    "  A[0] = 3\n",
    "  A[1] = 1\n",
    "  A[2] = 2\n",
    "  A[3] = 4\n",
    "  A[4] = 3\n",
    "\n",
    "the function should return 1, as explained above."
   ]
  },
  {
   "cell_type": "markdown",
   "metadata": {},
   "source": [
    "Initial Test complete."
   ]
  },
  {
   "cell_type": "markdown",
   "metadata": {},
   "source": [
    "V2.1"
   ]
  },
  {
   "cell_type": "code",
   "execution_count": 10,
   "metadata": {},
   "outputs": [],
   "source": [
    "def tape_int_2_1(data):\n",
    "    \n",
    "    left_side_sum = 0\n",
    "    \n",
    "    right_side_sum = sum(data[:])\n",
    "    \n",
    "    min_diff = abs(left_side_sum - right_side_sum)\n",
    "    \n",
    "    for num in data:\n",
    "        left_side_sum += num\n",
    "        \n",
    "        right_side_sum -= num\n",
    "        \n",
    "        current_diff = abs( left_side_sum - right_side_sum)\n",
    "                           \n",
    "        if min_diff > current_diff:\n",
    "            min_diff = current_diff\n",
    "        \n",
    "    return min_diff"
   ]
  },
  {
   "cell_type": "markdown",
   "metadata": {},
   "source": [
    "Testing  - the code"
   ]
  },
  {
   "cell_type": "markdown",
   "metadata": {},
   "source": [
    ""
   ]
  },
  {
   "cell_type": "markdown",
   "metadata": {},
   "source": [
    "Empty List"
   ]
  },
  {
   "cell_type": "code",
   "execution_count": 11,
   "metadata": {},
   "outputs": [
    {
     "name": "stdout",
     "output_type": "stream",
     "text": [
      "[]\n"
     ]
    }
   ],
   "source": [
    "empty_list  = list()\n",
    "print empty_list"
   ]
  },
  {
   "cell_type": "code",
   "execution_count": 12,
   "metadata": {},
   "outputs": [
    {
     "name": "stdout",
     "output_type": "stream",
     "text": [
      "[]\n0\n"
     ]
    }
   ],
   "source": [
    "print empty_list\n",
    "\n",
    "print tape_int_2_1(empty_list)"
   ]
  },
  {
   "cell_type": "markdown",
   "metadata": {},
   "source": [
    "Designing Data function for testing"
   ]
  },
  {
   "cell_type": "code",
   "execution_count": 13,
   "metadata": {},
   "outputs": [],
   "source": [
    "def random_test_data(start,stop,size):\n",
    "    import random\n",
    "    \n",
    "    return random.sample(xrange(start,stop), size)"
   ]
  },
  {
   "cell_type": "code",
   "execution_count": 104,
   "metadata": {},
   "outputs": [
    {
     "name": "stdout",
     "output_type": "stream",
     "text": [
      "[8, 5, 2, 7, 9, 4, 1, 3, 0, 6]\n<type 'list'>\n"
     ]
    }
   ],
   "source": [
    "small_simple_data = random_test_data(0,10,10)\n",
    "\n",
    "print small_simple_data\n",
    "\n",
    "print type(small_simple_data)"
   ]
  },
  {
   "cell_type": "code",
   "execution_count": 15,
   "metadata": {},
   "outputs": [
    {
     "name": "stdout",
     "output_type": "stream",
     "text": [
      "9\n"
     ]
    }
   ],
   "source": [
    "print tape_int_2_1(small_simple_data)"
   ]
  },
  {
   "cell_type": "markdown",
   "metadata": {},
   "source": [
    "V_2_2 test cases"
   ]
  },
  {
   "cell_type": "code",
   "execution_count": 16,
   "metadata": {},
   "outputs": [
    {
     "name": "stdout",
     "output_type": "stream",
     "text": [
      "[1, 2]\n1\n"
     ]
    }
   ],
   "source": [
    "double_list = [1,2]\n",
    "\n",
    "print double_list\n",
    "\n",
    "print tape_int_2_1(double_list)"
   ]
  },
  {
   "cell_type": "code",
   "execution_count": 17,
   "metadata": {},
   "outputs": [],
   "source": [
    "def tape_int_2_2(data):\n",
    "    \n",
    "    left_side_sum = 0\n",
    "    \n",
    "    right_side_sum = sum(data[:])\n",
    "    \n",
    "    print \"\\ninitial left side sum: \", left_side_sum\n",
    "    \n",
    "    print \"initial right side sum: \", right_side_sum , \n",
    "    \n",
    "    min_diff = abs(left_side_sum - right_side_sum)\n",
    "    \n",
    "    print \"\\n initial min_diff: \", min_diff, \"\\n\"\n",
    "    \n",
    "    for i,num in enumerate(data):\n",
    "        if i == len(data) - 1: break\n",
    "        \n",
    "        left_side_sum += num\n",
    "        \n",
    "        right_side_sum -= num\n",
    "        \n",
    "        print \"current num: \", num\n",
    "        \n",
    "        print \"left_sum: \", left_side_sum\n",
    "        \n",
    "        print \"right_sum: \", right_side_sum, \"\\n\"\n",
    "        \n",
    "        current_diff = abs( left_side_sum - right_side_sum)\n",
    "        \n",
    "        print \"current diff: \", current_diff, \"\\n\"\n",
    "                           \n",
    "        if min_diff > current_diff:\n",
    "            min_diff = current_diff\n",
    "            print \"min diff: \", min_diff\n",
    "        \n",
    "    return min_diff"
   ]
  },
  {
   "cell_type": "code",
   "execution_count": 18,
   "metadata": {},
   "outputs": [
    {
     "name": "stdout",
     "output_type": "stream",
     "text": [
      "[1, 2]\n\ninitial left side sum:  0\ninitial right side sum:  3 \n initial min_diff:  3 \n\ncurrent num:  1\nleft_sum:  1\nright_sum:  2 \n\ncurrent diff:  1 \n\nmin diff:  1\n1\n"
     ]
    }
   ],
   "source": [
    "print double_list\n",
    "\n",
    "print tape_int_2_2(double_list)"
   ]
  },
  {
   "cell_type": "code",
   "execution_count": 19,
   "metadata": {},
   "outputs": [
    {
     "name": "stdout",
     "output_type": "stream",
     "text": [
      "[1, 2]\n\ninitial left side sum:  0\ninitial right side sum:  0 \n initial min_diff:  0 \n\ncurrent num:  -2000\nleft_sum:  -2000\nright_sum:  2000 \n\ncurrent diff:  4000 \n\n0\n"
     ]
    }
   ],
   "source": [
    "double_list_1 = [-2000,2000]\n",
    "\n",
    "print double_list\n",
    "\n",
    "print tape_int_2_2(double_list_1)"
   ]
  },
  {
   "cell_type": "markdown",
   "metadata": {},
   "source": [
    "V2_3"
   ]
  },
  {
   "cell_type": "code",
   "execution_count": 75,
   "metadata": {},
   "outputs": [],
   "source": [
    "def tape_int_2_3(data):\n",
    "    \n",
    "    if len(data) == 0:\n",
    "        return 0\n",
    "    \n",
    "    elif len(data) == 1:\n",
    "        left_side_sum = 0\n",
    "        \n",
    "        right_side_sum = data[0]\n",
    "    else:\n",
    "    \n",
    "        left_side_sum = data[0]\n",
    "        \n",
    "        right_side_sum = sum(data[1:])\n",
    "        \n",
    "    print \"\\ninitial left side sum: \", left_side_sum\n",
    "    \n",
    "    print \"initial right side sum: \", right_side_sum , \n",
    "    \n",
    "    min_diff = abs(left_side_sum - right_side_sum)\n",
    "    \n",
    "    print \"\\n initial min_diff: \", min_diff, \"\\n\"\n",
    "    \n",
    "    pre_num = 0\n",
    "    \n",
    "    for i,num in enumerate(data):\n",
    "        if i < 2:\n",
    "            pre_num = num\n",
    "            continue\n",
    "        \n",
    "        left_side_sum += pre_num\n",
    "        \n",
    "        right_side_sum -= pre_num\n",
    "        \n",
    "        #right_side_sum += num\n",
    "        \n",
    "        print \"current num: \", num\n",
    "        \n",
    "        print \"left_sum: \", left_side_sum\n",
    "        \n",
    "        print \"right_sum: \", right_side_sum, \"\\n\"\n",
    "        \n",
    "        current_diff = abs( left_side_sum - right_side_sum)\n",
    "        \n",
    "        print \"current diff: \", current_diff, \"\\n\"\n",
    "        \n",
    "        pre_num = num\n",
    "                           \n",
    "        if min_diff > current_diff:\n",
    "            min_diff = current_diff\n",
    "            print \"min diff: \", min_diff\n",
    "            \n",
    "    return min_diff"
   ]
  },
  {
   "cell_type": "code",
   "execution_count": 76,
   "metadata": {},
   "outputs": [
    {
     "name": "stdout",
     "output_type": "stream",
     "text": [
      "[1, 2]\n\ninitial left side sum:  -2000\ninitial right side sum:  2000 \n initial min_diff:  4000 \n\n4000\n"
     ]
    }
   ],
   "source": [
    "double_list_1 = [-2000,2000]\n",
    "\n",
    "print double_list\n",
    "\n",
    "print tape_int_2_3(double_list_1)"
   ]
  },
  {
   "cell_type": "code",
   "execution_count": 77,
   "metadata": {},
   "outputs": [
    {
     "name": "stdout",
     "output_type": "stream",
     "text": [
      "0\n"
     ]
    }
   ],
   "source": [
    "print tape_int_2_3(empty_list)"
   ]
  },
  {
   "cell_type": "code",
   "execution_count": 78,
   "metadata": {},
   "outputs": [
    {
     "name": "stdout",
     "output_type": "stream",
     "text": [
      "[3, 1, 2, 4, 3]\n\ninitial left side sum:  3\ninitial right side sum:  10 \n initial min_diff:  7 \n\ncurrent num:  2\nleft_sum:  4\nright_sum:  9 \n\ncurrent diff:  5 \n\nmin diff:  5\ncurrent num:  4\nleft_sum:  6\nright_sum:  7 \n\ncurrent diff:  1 \n\nmin diff:  1\ncurrent num:  3\nleft_sum:  10\nright_sum:  3 \n\ncurrent diff:  7 \n\n1\n"
     ]
    }
   ],
   "source": [
    "print A\n",
    "\n",
    "print tape_int_2_3(A)"
   ]
  },
  {
   "cell_type": "code",
   "execution_count": 79,
   "metadata": {},
   "outputs": [
    {
     "name": "stdout",
     "output_type": "stream",
     "text": [
      "[-1060]\n1\n\ninitial left side sum:  0\ninitial right side sum:  -1060 \n initial min_diff:  1060 \n\n1060\n"
     ]
    }
   ],
   "source": [
    "single_list = random_test_data(-2000,2000,1)\n",
    "\n",
    "print single_list\n",
    "\n",
    "print (len(single_list))\n",
    "\n",
    "print tape_int_2_3(single_list)"
   ]
  },
  {
   "cell_type": "code",
   "execution_count": 74,
   "metadata": {},
   "outputs": [],
   "source": [
    "def tape_int_2_3_1(data):\n",
    "    \n",
    "    if len(data) == 0:\n",
    "        return 0\n",
    "    \n",
    "    elif len(data) == 1:\n",
    "        left_side_sum = 0\n",
    "        \n",
    "        right_side_sum = data[0]\n",
    "    else:\n",
    "    \n",
    "        left_side_sum = data[0]\n",
    "        \n",
    "        right_side_sum = sum(data[1:])\n",
    "    \n",
    "    min_diff = abs(left_side_sum - right_side_sum)\n",
    "    \n",
    "    pre_num = 0\n",
    "    \n",
    "    for i,num in enumerate(data):\n",
    "        if i < 2:\n",
    "            pre_num = num\n",
    "            continue\n",
    "        \n",
    "        left_side_sum += pre_num\n",
    "        \n",
    "        right_side_sum -= pre_num\n",
    "        \n",
    "        current_diff = abs( left_side_sum - right_side_sum)\n",
    "        \n",
    "        pre_num = num\n",
    "                           \n",
    "        if min_diff > current_diff:\n",
    "            min_diff = current_diff\n",
    "            \n",
    "    return min_diff"
   ]
  },
  {
   "cell_type": "code",
   "execution_count": 115,
   "metadata": {},
   "outputs": [],
   "source": [
    "def test_cases():\n",
    "\n",
    "    test_cases_list = list()\n",
    "    \n",
    "    for count in xrange(100):\n",
    "        # zero element list\n",
    "        test_cases_list.append(random_test_data(-1000,1000,0))\n",
    "        \n",
    "        #single element list\n",
    "        test_cases_list.append(random_test_data(-1000,1000,1))\n",
    "        \n",
    "        #double element list\n",
    "        test_cases_list.append(random_test_data(-1000,1000,2))\n",
    "        \n",
    "        #simple case list positive\n",
    "        test_cases_list.append(random_test_data(0,1000,10))\n",
    "        \n",
    "        #simple case list negative\n",
    "        test_cases_list.append(random_test_data(-1000,0,10))\n",
    "        \n",
    "        #simple case list all\n",
    "        test_cases_list.append(random_test_data(-1000,1000,10))\n",
    "        \n",
    "        #medium case list positive\n",
    "        test_cases_list.append(random_test_data(0,1000,100))\n",
    "        \n",
    "        #medium case list negative\n",
    "        test_cases_list.append(random_test_data(-1000,0,100))\n",
    "        \n",
    "        #medium case list all\n",
    "        test_cases_list.append(random_test_data(-1000,1000,100))\n",
    "        \n",
    "        #large case list positive\n",
    "        test_cases_list.append(random_test_data(0,1000,1000))\n",
    "        \n",
    "        #large case list negative\n",
    "        test_cases_list.append(random_test_data(-1000,0,1000))\n",
    "        \n",
    "        #large case list all\n",
    "        test_cases_list.append(random_test_data(-1000,1000,1000))\n",
    "        \n",
    "        #extra large case list positive\n",
    "        test_cases_list.append(random_test_data(0,10000,10000))\n",
    "        \n",
    "        #extra large case list negative\n",
    "        test_cases_list.append(random_test_data(-10000,0,10000))\n",
    "        \n",
    "        #extra large case list all\n",
    "        test_cases_list.append(random_test_data(-10000,10000,10000))\n",
    "        \n",
    "        #binary case list positive\n",
    "        test_cases_list.append(random_test_data(-1,1,10))\n",
    "        \n",
    "        #binary case list negative\n",
    "        test_cases_list.append(random_test_data(-1,1,10))\n",
    "        \n",
    "        #binary case list all\n",
    "        test_cases_list.append(random_test_data(-1,1,10))\n",
    "        \n",
    "        #simple pyramid case list positive\n",
    "        \n",
    "        pyramid_arr = random_test_data(0,1000,10)\n",
    "        test_cases_list.append( (list(reversed(pyramid_arr)))[:-1] + pyramid_arr )\n",
    "        \n",
    "        #simple pyramid case list negative\n",
    "        pyramid_arr = random_test_data(-1000,0,10)\n",
    "        test_cases_list.append( (list(reversed(pyramid_arr)))[:-1] + pyramid_arr )\n",
    "        \n",
    "        #simple pyramid case list all\n",
    "        pyramid_arr = random_test_data(-1000,1000,10)\n",
    "        test_cases_list.append( (list(reversed(pyramid_arr)))[:-1] + pyramid_arr )\n",
    "        \n",
    "        #medium pyramid case list positive\n",
    "        pyramid_arr = random_test_data(0,1000,100)\n",
    "        test_cases_list.append( (list(reversed(pyramid_arr)))[:-1] + pyramid_arr )\n",
    "        \n",
    "        #medium pyramid case list negative\n",
    "        pyramid_arr = random_test_data(-1000,0,100)\n",
    "        test_cases_list.append( (list(reversed(pyramid_arr)))[:-1] + pyramid_arr )\n",
    "        \n",
    "        #medium pyramid case list all\n",
    "        pyramid_arr = random_test_data(-1000,1000,100)\n",
    "        test_cases_list.append( (list(reversed(pyramid_arr)))[:-1] + pyramid_arr )\n",
    "        \n",
    "        #large pyramid case list positive\n",
    "        pyramid_arr = random_test_data(0,1000,1000)\n",
    "        test_cases_list.append( (list(reversed(pyramid_arr)))[:-1] + pyramid_arr )\n",
    "        \n",
    "        #large pyramid case list negative\n",
    "        pyramid_arr = random_test_data(-1000,0,1000)\n",
    "        test_cases_list.append( (list(reversed(pyramid_arr)))[:-1] + pyramid_arr )\n",
    "        \n",
    "        #large pyramid case list all\n",
    "        pyramid_arr = random_test_data(-1000,1000,1000)\n",
    "        test_cases_list.append( (list(reversed(pyramid_arr)))[:-1] + pyramid_arr )\n",
    "        \n",
    "        #simple 1 case list positive\n",
    "        test_cases_list.append(random_test_data(1,1,10))\n",
    "        \n",
    "        #simple 1 case list negative\n",
    "        test_cases_list.append(random_test_data(-1,-1,10))\n",
    "        \n",
    "        #medium 1 case list positive\n",
    "        test_cases_list.append(random_test_data(1,1,100))\n",
    "        \n",
    "        #medium 1 case list negative\n",
    "        test_cases_list.append(random_test_data(-1,1,100))\n",
    "        \n",
    "        #large 1 case list positive\n",
    "        test_cases_list.append(random_test_data(1,1,1000))\n",
    "        \n",
    "        #large 1 case list negative\n",
    "        test_cases_list.append(random_test_data(-1,-1,1000))\n",
    "        \n",
    "        #extra large 1 case list positive\n",
    "        test_cases_list.append(random_test_data(1,1,10000))\n",
    "        \n",
    "        #extra large 1 case list negative\n",
    "        test_cases_list.append(random_test_data(-1,-1,10000))\n",
    "\n",
    "        \n",
    "    return test_cases_list\n",
    "        \n",
    "        \n",
    "             \n",
    "\n",
    "\n",
    "        "
   ]
  },
  {
   "cell_type": "code",
   "execution_count": 116,
   "metadata": {},
   "outputs": [
    {
     "ename": "ValueError",
     "evalue": "sample larger than population",
     "traceback": [
      "\u001b[1;31m---------------------------------------------------------------------------\u001b[0m",
      "\u001b[1;31mValueError\u001b[0m                                Traceback (most recent call last)",
      "\u001b[1;32m<ipython-input-116-ff2aac29ea7c>\u001b[0m in \u001b[0;36m<module>\u001b[1;34m()\u001b[0m\n\u001b[1;32m----> 1\u001b[1;33m \u001b[1;32mprint\u001b[0m \u001b[0mtest_cases\u001b[0m\u001b[1;33m(\u001b[0m\u001b[1;33m)\u001b[0m\u001b[1;33m\u001b[0m\u001b[0m\n\u001b[0m",
      "\u001b[1;32m<ipython-input-115-2b5f4085402a>\u001b[0m in \u001b[0;36mtest_cases\u001b[1;34m()\u001b[0m\n\u001b[0;32m     50\u001b[0m \u001b[1;33m\u001b[0m\u001b[0m\n\u001b[0;32m     51\u001b[0m         \u001b[1;31m#binary case list positive\u001b[0m\u001b[1;33m\u001b[0m\u001b[1;33m\u001b[0m\u001b[0m\n\u001b[1;32m---> 52\u001b[1;33m         \u001b[0mtest_cases_list\u001b[0m\u001b[1;33m.\u001b[0m\u001b[0mappend\u001b[0m\u001b[1;33m(\u001b[0m\u001b[0mrandom_test_data\u001b[0m\u001b[1;33m(\u001b[0m\u001b[1;33m-\u001b[0m\u001b[1;36m1\u001b[0m\u001b[1;33m,\u001b[0m\u001b[1;36m1\u001b[0m\u001b[1;33m,\u001b[0m\u001b[1;36m10\u001b[0m\u001b[1;33m)\u001b[0m\u001b[1;33m)\u001b[0m\u001b[1;33m\u001b[0m\u001b[0m\n\u001b[0m\u001b[0;32m     53\u001b[0m \u001b[1;33m\u001b[0m\u001b[0m\n\u001b[0;32m     54\u001b[0m         \u001b[1;31m#binary case list negative\u001b[0m\u001b[1;33m\u001b[0m\u001b[1;33m\u001b[0m\u001b[0m\n",
      "\u001b[1;32m<ipython-input-13-aa42635a87f2>\u001b[0m in \u001b[0;36mrandom_test_data\u001b[1;34m(start, stop, size)\u001b[0m\n\u001b[0;32m      2\u001b[0m     \u001b[1;32mimport\u001b[0m \u001b[0mrandom\u001b[0m\u001b[1;33m\u001b[0m\u001b[0m\n\u001b[0;32m      3\u001b[0m \u001b[1;33m\u001b[0m\u001b[0m\n\u001b[1;32m----> 4\u001b[1;33m     \u001b[1;32mreturn\u001b[0m \u001b[0mrandom\u001b[0m\u001b[1;33m.\u001b[0m\u001b[0msample\u001b[0m\u001b[1;33m(\u001b[0m\u001b[0mxrange\u001b[0m\u001b[1;33m(\u001b[0m\u001b[0mstart\u001b[0m\u001b[1;33m,\u001b[0m\u001b[0mstop\u001b[0m\u001b[1;33m)\u001b[0m\u001b[1;33m,\u001b[0m \u001b[0msize\u001b[0m\u001b[1;33m)\u001b[0m\u001b[1;33m\u001b[0m\u001b[0m\n\u001b[0m",
      "\u001b[1;32m/etc/Anaconda2/Conda2/lib/python2.7/random.pyc\u001b[0m in \u001b[0;36msample\u001b[1;34m(self, population, k)\u001b[0m\n\u001b[0;32m    321\u001b[0m         \u001b[0mn\u001b[0m \u001b[1;33m=\u001b[0m \u001b[0mlen\u001b[0m\u001b[1;33m(\u001b[0m\u001b[0mpopulation\u001b[0m\u001b[1;33m)\u001b[0m\u001b[1;33m\u001b[0m\u001b[0m\n\u001b[0;32m    322\u001b[0m         \u001b[1;32mif\u001b[0m \u001b[1;32mnot\u001b[0m \u001b[1;36m0\u001b[0m \u001b[1;33m<=\u001b[0m \u001b[0mk\u001b[0m \u001b[1;33m<=\u001b[0m \u001b[0mn\u001b[0m\u001b[1;33m:\u001b[0m\u001b[1;33m\u001b[0m\u001b[0m\n\u001b[1;32m--> 323\u001b[1;33m             \u001b[1;32mraise\u001b[0m \u001b[0mValueError\u001b[0m\u001b[1;33m(\u001b[0m\u001b[1;34m\"sample larger than population\"\u001b[0m\u001b[1;33m)\u001b[0m\u001b[1;33m\u001b[0m\u001b[0m\n\u001b[0m\u001b[0;32m    324\u001b[0m         \u001b[0mrandom\u001b[0m \u001b[1;33m=\u001b[0m \u001b[0mself\u001b[0m\u001b[1;33m.\u001b[0m\u001b[0mrandom\u001b[0m\u001b[1;33m\u001b[0m\u001b[0m\n\u001b[0;32m    325\u001b[0m         \u001b[0m_int\u001b[0m \u001b[1;33m=\u001b[0m \u001b[0mint\u001b[0m\u001b[1;33m\u001b[0m\u001b[0m\n",
      "\u001b[1;31mValueError\u001b[0m: sample larger than population"
     ],
     "output_type": "error"
    }
   ],
   "source": [
    "print test_cases()"
   ]
  },
  {
   "cell_type": "code",
   "execution_count": 96,
   "metadata": {},
   "outputs": [
    {
     "name": "stdout",
     "output_type": "stream",
     "text": [
      "[8, 6, 4, 9, 7, 1, 3, 5, 0, 2]\n"
     ]
    }
   ],
   "source": [
    "print small_simple_data"
   ]
  },
  {
   "cell_type": "code",
   "execution_count": 109,
   "metadata": {},
   "outputs": [
    {
     "name": "stdout",
     "output_type": "stream",
     "text": [
      "[8, 5, 2, 7, 9, 4, 1, 3, 0, 6]\n[6, 0, 3, 1, 4, 9, 7, 2, 5, 8]\n[8, 5, 2, 7, 9, 4, 1, 3, 0, 6]\n[6, 0, 3, 1, 4, 9, 7, 2, 5, 8, 5, 2, 7, 9, 4, 1, 3, 0, 6]\n"
     ]
    }
   ],
   "source": [
    "list_1 =  small_simple_data\n",
    "\n",
    "print list_1\n",
    "\n",
    "list_1 = list(reversed(list_1))\n",
    "\n",
    "print list_1\n",
    "\n",
    "print small_simple_data\n",
    "\n",
    "pyramid = []\n",
    "#pyramid = small_simple_data.sort(reverse=True)\n",
    "\n",
    "pyramid = list_1[:-1] + small_simple_data\n",
    "\n",
    "print pyramid\n",
    "\n"
   ]
  },
  {
   "cell_type": "code",
   "execution_count": 112,
   "metadata": {},
   "outputs": [
    {
     "name": "stdout",
     "output_type": "stream",
     "text": [
      "[944, 576, 894, 6, 445, 594, 812, 477, 425, 959]\n[959, 425, 477, 812, 594, 445, 6, 894, 576, 944, 576, 894, 6, 445, 594, 812, 477, 425, 959]\n"
     ]
    }
   ],
   "source": [
    " pyramid_arr = random_test_data(0,1000,10)\n",
    " \n",
    " print pyramid_arr\n",
    " \n",
    " pyramid_test = (list(reversed(pyramid_arr)))[:-1] + pyramid_arr\n",
    " \n",
    " print pyramid_test"
   ]
  },
  {
   "cell_type": "code",
   "execution_count": null,
   "metadata": {},
   "outputs": [],
   "source": [
    "print list(itertools.product([0, 1], repeat=3))"
   ]
  },
  {
   "cell_type": "code",
   "execution_count": null,
   "outputs": [],
   "source": [
    ""
   ]
  }
 ],
 "metadata": {
  "kernelspec": {
   "display_name": "Python 2",
   "language": "python",
   "name": "python2"
  },
  "language_info": {
   "codemirror_mode": {
    "name": "ipython",
    "version": 2.0
   },
   "file_extension": ".py",
   "mimetype": "text/x-python",
   "name": "python",
   "nbconvert_exporter": "python",
   "pygments_lexer": "ipython2",
   "version": "2.7.6"
  }
 },
 "nbformat": 4,
 "nbformat_minor": 0
}