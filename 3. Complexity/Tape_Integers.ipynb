{
 "cells": [
  {
   "cell_type": "markdown",
   "metadata": {
    "collapsed": true
   },
   "source": [
    "Write a function:\n",
    "\n",
    "    def solution(A)\n",
    "\n",
    "that, given a non-empty zero-indexed array A of N integers, returns the minimal difference that can be achieved.\n",
    "\n",
    "For example, given:\n",
    "  A[0] = 3\n",
    "  A[1] = 1\n",
    "  A[2] = 2\n",
    "  A[3] = 4\n",
    "  A[4] = 3\n",
    "\n",
    "the function should return 1, as explained above.\n",
    "\n",
    "Assume that:\n",
    "\n",
    "        N is an integer within the range [2..100,000];\n",
    "        each element of array A is an integer within the range [−1,000..1,000].\n",
    "\n",
    "Complexity:\n",
    "\n",
    "        expected worst-case time complexity is O(N);\n",
    "        expected worst-case space complexity is O(N), beyond input storage (not counting the storage required for input arguments).\n",
    "\n",
    "Elements of input arrays can be modified."
   ]
  },
  {
   "cell_type": "markdown",
   "metadata": {},
   "source": [
    "# Defining the Function:\n",
    "\n",
    "-----------------------------------------------------------\n",
    "## left_side_sum = P[0:N-1]\n",
    "## right_side_sum = P[N:]\n",
    "\n",
    "----------------------------------------------------------\n",
    "\n",
    "## Difference = absolute(left_side_sum - right_side_sum)\n",
    "\n",
    "------------------------------------------------------------\n",
    "\n",
    "# Range:\n",
    "\n",
    "## N = [2,100,000]\n",
    "## P = [-1000, 1000]\n",
    "\n",
    "-------------------------------------------------------------\n",
    "\n",
    "# Complexity\n",
    "\n",
    "## Time = O^n\n",
    "## Space = O^n\n",
    "\n",
    "--------------------------------------------------------------\n",
    "\n",
    "# Answer:\n",
    "\n",
    "## Minimum_Difference\n",
    "\n",
    "----------------------------------------------------------------"
   ]
  },
  {
   "cell_type": "code",
   "execution_count": 2,
   "metadata": {},
   "outputs": [],
   "source": [
    "A = [3,1,2,4,3]"
   ]
  },
  {
   "cell_type": "code",
   "execution_count": 31,
   "metadata": {},
   "outputs": [
    {
     "ename": "SyntaxError",
     "evalue": "invalid syntax (<ipython-input-31-62ebf6fe5350>, line 1)",
     "traceback": [
      "\u001b[1;36m  File \u001b[1;32m\"<ipython-input-31-62ebf6fe5350>\"\u001b[1;36m, line \u001b[1;32m1\u001b[0m\n\u001b[1;33m    V1. broken Testing. Changing the iteration values to be used.\u001b[0m\n\u001b[1;37m                     ^\u001b[0m\n\u001b[1;31mSyntaxError\u001b[0m\u001b[1;31m:\u001b[0m invalid syntax\n"
     ],
     "output_type": "error"
    }
   ],
   "source": [
    "V1. broken Testing. Changing the iteration values to be used."
   ]
  },
  {
   "cell_type": "markdown",
   "metadata": {},
   "source": [
    "Designing the function"
   ]
  },
  {
   "cell_type": "code",
   "execution_count": 37,
   "metadata": {},
   "outputs": [],
   "source": [
    "def tape_int_1(data):\n",
    "    \n",
    "    left_side_sum = 0\n",
    "    \n",
    "    right_side_sum = sum(data[:])\n",
    "    \n",
    "    min_diff = abs(left_side_sum - right_side_sum)\n",
    "    \n",
    "    print \"\\n initial min_diff: \", min_diff, \n",
    "    \n",
    "    print \"\\ninitial left side sum: \", left_side_sum\n",
    "    \n",
    "    print \"initial right side sum: \", right_side_sum , \"\\n\"\n",
    "    \n",
    "    for counter,num in enumerate(data):\n",
    "        if counter == 0: continue\n",
    "        pre_num = data[counter-1]\n",
    "        \n",
    "        left_side_sum += pre_num\n",
    "        \n",
    "        right_side_sum -= pre_num\n",
    "        \n",
    "        right_side_sum += num\n",
    "        \n",
    "        print \"\\n pre_num: \", pre_num\n",
    "        \n",
    "        print \"current num: \", num\n",
    "        \n",
    "        print \"left_sum: \", left_side_sum\n",
    "        \n",
    "        print \"right_sum: \", right_side_sum, \"\\n\"\n",
    "        \n",
    "        current_diff = abs( left_side_sum - right_side_sum)\n",
    "                           \n",
    "        print \"current diff: \", current_diff, \"\\n\"\n",
    "        \n",
    "        if min_diff > current_diff:\n",
    "            min_diff = current_diff\n",
    "        \n",
    "        print \"\\n current min_diff: \", min_diff\n",
    "        \n",
    "        #print \"pre_num: \", pre_num\n",
    "        \n",
    "        #print \"current num: \", num\n",
    "        \n",
    "        #print \"left_sum: \", left_side_sum\n",
    "        \n",
    "        #print \"right_sum: \", right_side_sum\n",
    "                \n",
    "        #print \"current diff: \", current_diff, \"\\n\"\n",
    "        \n",
    "        if counter >= len(data) -1:\n",
    "            return min_diff"
   ]
  },
  {
   "cell_type": "code",
   "execution_count": 38,
   "metadata": {},
   "outputs": [
    {
     "name": "stdout",
     "output_type": "stream",
     "text": [
      "[3, 1, 2, 4, 3]\n\n initial min_diff:  13 \ninitial left side sum:  0\ninitial right side sum:  13 \n\n\n pre_num:  3\ncurrent num:  1\nleft_sum:  3\nright_sum:  11 \n\ncurrent diff:  8 \n\n\n current min_diff:  8\n\n pre_num:  1\ncurrent num:  2\nleft_sum:  4\nright_sum:  12 \n\ncurrent diff:  8 \n\n\n current min_diff:  8\n\n pre_num:  2\ncurrent num:  4\nleft_sum:  6\nright_sum:  14 \n\ncurrent diff:  8 \n\n\n current min_diff:  8\n\n pre_num:  4\ncurrent num:  3\nleft_sum:  10\nright_sum:  13 \n\ncurrent diff:  3 \n\n\n current min_diff:  3\n3\n"
     ]
    }
   ],
   "source": [
    "print A\n",
    "\n",
    "print tape_int(A)"
   ]
  },
  {
   "cell_type": "code",
   "execution_count": null,
   "metadata": {},
   "outputs": [],
   "source": [
    "V2."
   ]
  },
  {
   "cell_type": "code",
   "execution_count": 45,
   "metadata": {},
   "outputs": [
    {
     "name": "stdout",
     "output_type": "stream",
     "text": [
      "\n"
     ]
    }
   ],
   "source": [
    "def tape_int_2(data):\n",
    "    \n",
    "    left_side_sum = 0\n",
    "    \n",
    "    right_side_sum = sum(data[:])\n",
    "    \n",
    "    min_diff = abs(left_side_sum - right_side_sum)\n",
    "    \n",
    "    print \"\\n initial min_diff: \", min_diff, \n",
    "    \n",
    "    print \"\\ninitial left side sum: \", left_side_sum\n",
    "    \n",
    "    print \"initial right side sum: \", right_side_sum , \"\\n\"\n",
    "    \n",
    "    for num in data:\n",
    "        #if counter == 0: continue\n",
    "        #pre_num = data[counter-1]\n",
    "        \n",
    "        left_side_sum += num\n",
    "        \n",
    "        right_side_sum -= num\n",
    "        \n",
    "        #right_side_sum += num\n",
    "        \n",
    "        #print \"\\n pre_num: \", num\n",
    "        \n",
    "        print \"current num: \", num\n",
    "        \n",
    "        print \"left_sum: \", left_side_sum\n",
    "        \n",
    "        print \"right_sum: \", right_side_sum, \"\\n\"\n",
    "        \n",
    "        current_diff = abs( left_side_sum - right_side_sum)\n",
    "                           \n",
    "        print \"current diff: \", current_diff, \"\\n\"\n",
    "        \n",
    "        if min_diff > current_diff:\n",
    "            min_diff = current_diff\n",
    "        \n",
    "        print \"\\n current min_diff: \", min_diff\n",
    "        \n",
    "        #print \"pre_num: \", pre_num\n",
    "        \n",
    "        #print \"current num: \", num\n",
    "        \n",
    "        #print \"left_sum: \", left_side_sum\n",
    "        \n",
    "        #print \"right_sum: \", right_side_sum\n",
    "                \n",
    "        #print \"current diff: \", current_diff, \"\\n\"\n",
    "        \n",
    "        #if counter >= len(data) -1:\n",
    "    return min_diff"
   ]
  },
  {
   "cell_type": "code",
   "execution_count": 46,
   "metadata": {},
   "outputs": [
    {
     "name": "stdout",
     "output_type": "stream",
     "text": [
      "[3, 1, 2, 4, 3]\n\n initial min_diff:  13 \ninitial left side sum:  0\ninitial right side sum:  13 \n\ncurrent num:  3\nleft_sum:  3\nright_sum:  10 \n\ncurrent diff:  7 \n\n\n current min_diff:  7\ncurrent num:  1\nleft_sum:  4\nright_sum:  9 \n\ncurrent diff:  5 \n\n\n current min_diff:  5\ncurrent num:  2\nleft_sum:  6\nright_sum:  7 \n\ncurrent diff:  1 \n\n\n current min_diff:  1\ncurrent num:  4\nleft_sum:  10\nright_sum:  3 \n\ncurrent diff:  7 \n\n\n current min_diff:  1\ncurrent num:  3\nleft_sum:  13\nright_sum:  0 \n\ncurrent diff:  13 \n\n\n current min_diff:  1\n1\n"
     ]
    }
   ],
   "source": [
    "print A\n",
    "print tape_int_2(A)"
   ]
  },
  {
   "cell_type": "markdown",
   "metadata": {},
   "source": [
    "For example, given:\n",
    "  A[0] = 3\n",
    "  A[1] = 1\n",
    "  A[2] = 2\n",
    "  A[3] = 4\n",
    "  A[4] = 3\n",
    "\n",
    "the function should return 1, as explained above."
   ]
  },
  {
   "cell_type": "markdown",
   "metadata": {},
   "source": [
    "Initial Test complete."
   ]
  },
  {
   "cell_type": "code",
   "execution_count": null,
   "metadata": {},
   "outputs": [],
   "source": [
    "V2.1"
   ]
  },
  {
   "cell_type": "code",
   "execution_count": 50,
   "metadata": {},
   "outputs": [],
   "source": [
    "def tape_int_2_1(data):\n",
    "    \n",
    "    left_side_sum = 0\n",
    "    \n",
    "    right_side_sum = sum(data[:])\n",
    "    \n",
    "    min_diff = abs(left_side_sum - right_side_sum)\n",
    "    \n",
    "    for num in data:\n",
    "        left_side_sum += num\n",
    "        \n",
    "        right_side_sum -= num\n",
    "        \n",
    "        current_diff = abs( left_side_sum - right_side_sum)\n",
    "                           \n",
    "        if min_diff > current_diff:\n",
    "            min_diff = current_diff\n",
    "        \n",
    "    return min_diff"
   ]
  },
  {
   "cell_type": "markdown",
   "metadata": {},
   "source": [
    "Testing  - the code"
   ]
  },
  {
   "cell_type": "markdown",
   "metadata": {},
   "source": [
    ""
   ]
  },
  {
   "cell_type": "markdown",
   "metadata": {},
   "source": [
    "Empty List"
   ]
  },
  {
   "cell_type": "code",
   "execution_count": 52,
   "metadata": {},
   "outputs": [
    {
     "name": "stdout",
     "output_type": "stream",
     "text": [
      "[]\n"
     ]
    }
   ],
   "source": [
    "empty_list  = list()\n",
    "print empty_list"
   ]
  },
  {
   "cell_type": "code",
   "execution_count": 54,
   "metadata": {},
   "outputs": [
    {
     "name": "stdout",
     "output_type": "stream",
     "text": [
      "[]\n0\n"
     ]
    }
   ],
   "source": [
    "print empty_list\n",
    "\n",
    "print tape_int_2_1(empty_list)"
   ]
  },
  {
   "cell_type": "markdown",
   "metadata": {},
   "source": [
    "Designing Data function for testing"
   ]
  },
  {
   "cell_type": "code",
   "execution_count": 56,
   "metadata": {},
   "outputs": [],
   "source": [
    "def random_test_data(start,stop,size):\n",
    "    import random\n",
    "    \n",
    "    return random.sample(xrange(start,stop), size)"
   ]
  },
  {
   "cell_type": "code",
   "execution_count": 58,
   "metadata": {},
   "outputs": [
    {
     "name": "stdout",
     "output_type": "stream",
     "text": [
      "[0, 6, 3, 8, 5, 9, 2, 1, 7, 4]\n"
     ]
    }
   ],
   "source": [
    "small_simple_data = random_test_data(0,10,10)\n",
    "\n",
    "print small_simple_data"
   ]
  },
  {
   "cell_type": "code",
   "execution_count": 60,
   "metadata": {},
   "outputs": [
    {
     "name": "stdout",
     "output_type": "stream",
     "text": [
      "1\n"
     ]
    }
   ],
   "source": [
    "print tape_int_2_1(small_simple_data)"
   ]
  },
  {
   "cell_type": "markdown",
   "metadata": {},
   "source": [
    "V_2_2 test cases"
   ]
  },
  {
   "cell_type": "code",
   "execution_count": 62,
   "metadata": {},
   "outputs": [
    {
     "name": "stdout",
     "output_type": "stream",
     "text": [
      "[1, 2]\n1\n"
     ]
    }
   ],
   "source": [
    "double_list = [1,2]\n",
    "\n",
    "print double_list\n",
    "\n",
    "print tape_int_2_1(double_list)"
   ]
  },
  {
   "cell_type": "code",
   "execution_count": 87,
   "metadata": {},
   "outputs": [],
   "source": [
    "def tape_int_2_2(data):\n",
    "    \n",
    "    left_side_sum = 0\n",
    "    \n",
    "    right_side_sum = sum(data[:])\n",
    "    \n",
    "    print \"\\ninitial left side sum: \", left_side_sum\n",
    "    \n",
    "    print \"initial right side sum: \", right_side_sum , \n",
    "    \n",
    "    min_diff = abs(left_side_sum - right_side_sum)\n",
    "    \n",
    "    print \"\\n initial min_diff: \", min_diff, \"\\n\"\n",
    "    \n",
    "    for i,num in enumerate(data):\n",
    "        if i == len(data) - 1: break\n",
    "        \n",
    "        left_side_sum += num\n",
    "        \n",
    "        right_side_sum -= num\n",
    "        \n",
    "        print \"current num: \", num\n",
    "        \n",
    "        print \"left_sum: \", left_side_sum\n",
    "        \n",
    "        print \"right_sum: \", right_side_sum, \"\\n\"\n",
    "        \n",
    "        current_diff = abs( left_side_sum - right_side_sum)\n",
    "        \n",
    "        print \"current diff: \", current_diff, \"\\n\"\n",
    "                           \n",
    "        if min_diff > current_diff:\n",
    "            min_diff = current_diff\n",
    "            print \"min diff: \", min_diff\n",
    "        \n",
    "    return min_diff"
   ]
  },
  {
   "cell_type": "code",
   "execution_count": 88,
   "metadata": {},
   "outputs": [
    {
     "name": "stdout",
     "output_type": "stream",
     "text": [
      "[1, 2]\n\ninitial left side sum:  0\ninitial right side sum:  3 \n initial min_diff:  3 \n\ncurrent num:  1\nleft_sum:  1\nright_sum:  2 \n\ncurrent diff:  1 \n\nmin diff:  1\n1\n"
     ]
    }
   ],
   "source": [
    "print double_list\n",
    "\n",
    "print tape_int_2_2(double_list)"
   ]
  },
  {
   "cell_type": "code",
   "execution_count": 89,
   "metadata": {},
   "outputs": [
    {
     "name": "stdout",
     "output_type": "stream",
     "text": [
      "[1, 2]\n\ninitial left side sum:  0\ninitial right side sum:  0 \n initial min_diff:  0 \n\ncurrent num:  -2000\nleft_sum:  -2000\nright_sum:  2000 \n\ncurrent diff:  4000 \n\n0\n"
     ]
    }
   ],
   "source": [
    "double_list_1 = [-2000,2000]\n",
    "\n",
    "print double_list\n",
    "\n",
    "print tape_int_2_2(double_list_1)"
   ]
  },
  {
   "cell_type": "markdown",
   "metadata": {},
   "source": [
    "V2_3"
   ]
  },
  {
   "cell_type": "code",
   "execution_count": 93,
   "metadata": {},
   "outputs": [],
   "source": [
    "def tape_int_2_3(data):\n",
    "    \n",
    "    left_side_sum = data[0]\n",
    "    \n",
    "    right_side_sum = sum(data[1:])\n",
    "    \n",
    "    print \"\\ninitial left side sum: \", left_side_sum\n",
    "    \n",
    "    print \"initial right side sum: \", right_side_sum , \n",
    "    \n",
    "    min_diff = abs(left_side_sum - right_side_sum)\n",
    "    \n",
    "    print \"\\n initial min_diff: \", min_diff, \"\\n\"\n",
    "    \n",
    "    for i,num in enumerate(data):\n",
    "        if i < 1: continue\n",
    "        \n",
    "        left_side_sum += num\n",
    "        \n",
    "        right_side_sum -= num\n",
    "        \n",
    "        print \"current num: \", num\n",
    "        \n",
    "        print \"left_sum: \", left_side_sum\n",
    "        \n",
    "        print \"right_sum: \", right_side_sum, \"\\n\"\n",
    "        \n",
    "        current_diff = abs( left_side_sum - right_side_sum)\n",
    "        \n",
    "        print \"current diff: \", current_diff, \"\\n\"\n",
    "                           \n",
    "        if min_diff > current_diff:\n",
    "            min_diff = current_diff\n",
    "            print \"min diff: \", min_diff\n",
    "            \n",
    "    return min_diff"
   ]
  },
  {
   "cell_type": "code",
   "execution_count": 94,
   "metadata": {},
   "outputs": [
    {
     "name": "stdout",
     "output_type": "stream",
     "text": [
      "[1, 2]\n\ninitial left side sum:  -2000\ninitial right side sum:  2000 \n initial min_diff:  4000 \n\ncurrent num:  2000\nleft_sum:  0\nright_sum:  0 \n\ncurrent diff:  0 \n\nmin diff:  0\n0\n"
     ]
    }
   ],
   "source": [
    "double_list_1 = [-2000,2000]\n",
    "\n",
    "print double_list\n",
    "\n",
    "print tape_int_2_3(double_list_1)"
   ]
  },
  {
   "cell_type": "code",
   "execution_count": null,
   "metadata": {},
   "outputs": [],
   "source": [
    ""
   ]
  },
  {
   "cell_type": "code",
   "execution_count": null,
   "outputs": [],
   "source": [
    ""
   ]
  }
 ],
 "metadata": {
  "kernelspec": {
   "display_name": "Python 2",
   "language": "python",
   "name": "python2"
  },
  "language_info": {
   "codemirror_mode": {
    "name": "ipython",
    "version": 2.0
   },
   "file_extension": ".py",
   "mimetype": "text/x-python",
   "name": "python",
   "nbconvert_exporter": "python",
   "pygments_lexer": "ipython2",
   "version": "2.7.6"
  }
 },
 "nbformat": 4,
 "nbformat_minor": 0
}