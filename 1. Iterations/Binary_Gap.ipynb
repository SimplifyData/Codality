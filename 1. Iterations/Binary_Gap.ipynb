{
 "cells": [
  {
   "cell_type": "markdown",
   "metadata": {
    "collapsed": true
   },
   "source": [
    "Write a function:\n",
    "\n",
    "    def solution(N)\n",
    "\n",
    "that, given a positive integer N, returns the length of its longest binary gap. The function should return 0 if N doesn't contain a binary gap.\n",
    "\n",
    "For example, given N = 1041 the function should return 5, because N has binary representation 10000010001 and so its longest binary gap is of length 5.\n",
    "\n",
    "Assume that:\n",
    "\n",
    "        N is an integer within the range [1..2,147,483,647].\n",
    "\n",
    "Complexity:\n",
    "\n",
    "        expected worst-case time complexity is O(log(N));\n",
    "        expected worst-case space complexity is O(1).\n",
    "\n"
   ]
  },
  {
   "cell_type": "markdown",
   "metadata": {},
   "source": [
    "Analyzing number of bits"
   ]
  },
  {
   "cell_type": "code",
   "execution_count": 1,
   "metadata": {},
   "outputs": [
    {
     "name": "stdout",
     "output_type": "stream",
     "text": [
      "1\n0b1\n1\n00000001\n"
     ]
    }
   ],
   "source": [
    "n = 1\n",
    "\n",
    "print n.bit_length()\n",
    "\n",
    "a = n.bit_length()\n",
    "\n",
    "print bin(n)\n",
    "\n",
    "print '%0*d' % (a, int(bin(n)[2:]))\n",
    "\n",
    "print '{0:08b}'.format(n)"
   ]
  },
  {
   "cell_type": "markdown",
   "metadata": {},
   "source": [
    "n = 10"
   ]
  },
  {
   "cell_type": "code",
   "execution_count": 2,
   "metadata": {},
   "outputs": [
    {
     "name": "stdout",
     "output_type": "stream",
     "text": [
      "4\n0b1010\n1010\n00001010\n"
     ]
    }
   ],
   "source": [
    "n = 10\n",
    "\n",
    "print n.bit_length()\n",
    "\n",
    "a = n.bit_length()\n",
    "\n",
    "print bin(n)\n",
    "\n",
    "print '%0*d' % (a, int(bin(n)[2:]))\n",
    "\n",
    "print '{0:08b}'.format(n)"
   ]
  },
  {
   "cell_type": "markdown",
   "metadata": {},
   "source": [
    "n=100"
   ]
  },
  {
   "cell_type": "code",
   "execution_count": 3,
   "metadata": {},
   "outputs": [
    {
     "name": "stdout",
     "output_type": "stream",
     "text": [
      "4\n0b1010\n1010\n00001010\n"
     ]
    }
   ],
   "source": [
    "n = 10\n",
    "\n",
    "print n.bit_length()\n",
    "\n",
    "a = n.bit_length()\n",
    "\n",
    "print bin(n)\n",
    "\n",
    "print '%0*d' % (a, int(bin(n)[2:]))\n",
    "\n",
    "print '{0:08b}'.format(n)"
   ]
  },
  {
   "cell_type": "markdown",
   "metadata": {},
   "source": [
    "converting binary to decimal"
   ]
  },
  {
   "cell_type": "code",
   "execution_count": 13,
   "metadata": {},
   "outputs": [
    {
     "name": "stdout",
     "output_type": "stream",
     "text": [
      "0\n1\ncount gap:  1\n2\nbinary gap 1\n3\n4\n5\ncount gap:  1\n6\ncount gap:  2\n7\nbinary gap 2\n2\n"
     ]
    }
   ],
   "source": [
    "n = 157\n",
    "\n",
    "\n",
    "count_one = 0\n",
    "count_gap = 0\n",
    "binarygap = 0\n",
    "\n",
    "for count in xrange(n.bit_length()):\n",
    "    print count\n",
    "    \n",
    "    if n % 2:\n",
    "        count_one +=1\n",
    "        n = n /2\n",
    "    elif count_one == 1:\n",
    "        count_gap += 1\n",
    "        print \"count gap: \", count_gap\n",
    "        n = n / 2\n",
    "    \n",
    "    if count_one > 1:\n",
    "        if binarygap < count_gap:\n",
    "            binarygap = count_gap\n",
    "            print \"binary gap\", binarygap\n",
    "        count_one = 1\n",
    "        count_gap = 0\n",
    "\n",
    "print binarygap"
   ]
  },
  {
   "cell_type": "code",
   "execution_count": 10,
   "metadata": {},
   "outputs": [
    {
     "data": {
      "text/plain": [
       "78"
      ]
     },
     "execution_count": 10,
     "metadata": {},
     "output_type": "execute_result"
    }
   ],
   "source": [
    "157 /2"
   ]
  },
  {
   "cell_type": "code",
   "execution_count": 12,
   "metadata": {},
   "outputs": [
    {
     "data": {
      "text/plain": [
       "39"
      ]
     },
     "execution_count": 12,
     "metadata": {},
     "output_type": "execute_result"
    }
   ],
   "source": [
    "78/2"
   ]
  },
  {
   "cell_type": "markdown",
   "metadata": {},
   "source": [
    "testing more binary to decimal conversions"
   ]
  },
  {
   "cell_type": "code",
   "execution_count": 15,
   "metadata": {},
   "outputs": [
    {
     "name": "stdout",
     "output_type": "stream",
     "text": [
      "0\n1\ncount gap:  1\n2\nbinary gap 1\n3\ncount gap:  1\n4\ncount gap:  2\n5\nbinary gap 2\n2\n"
     ]
    }
   ],
   "source": [
    "n = 37\n",
    "\n",
    "\n",
    "count_one = 0\n",
    "count_gap = 0\n",
    "binarygap = 0\n",
    "\n",
    "for count in xrange(n.bit_length()):\n",
    "    print count\n",
    "    \n",
    "    if n % 2:\n",
    "        count_one +=1\n",
    "        n = n /2\n",
    "    elif count_one == 1:\n",
    "        count_gap += 1\n",
    "        print \"count gap: \", count_gap\n",
    "        n = n / 2\n",
    "    \n",
    "    if count_one > 1:\n",
    "        if binarygap < count_gap:\n",
    "            binarygap = count_gap\n",
    "            print \"binary gap\", binarygap\n",
    "        count_one = 1\n",
    "        count_gap = 0\n",
    "\n",
    "print binarygap"
   ]
  },
  {
   "cell_type": "code",
   "execution_count": 18,
   "metadata": {},
   "outputs": [
    {
     "name": "stdout",
     "output_type": "stream",
     "text": [
      "0\n1\n2\n3\n4\n5\n6\n7\n0\n"
     ]
    }
   ],
   "source": [
    "n = 142\n",
    "\n",
    "\n",
    "count_one = 0\n",
    "count_gap = 0\n",
    "binarygap = 0\n",
    "\n",
    "for count in xrange(n.bit_length()):\n",
    "    print count\n",
    "    \n",
    "    if n % 2:\n",
    "        count_one +=1\n",
    "        n = n /2\n",
    "    elif count_one == 1:\n",
    "        count_gap += 1\n",
    "        print \"count gap: \", count_gap\n",
    "        n = n / 2\n",
    "    \n",
    "    if count_one > 1:\n",
    "        if binarygap < count_gap:\n",
    "            binarygap = count_gap\n",
    "            print \"binary gap\", binarygap\n",
    "        count_one = 1\n",
    "        count_gap = 0\n",
    "\n",
    "print binarygap"
   ]
  },
  {
   "cell_type": "code",
   "execution_count": 20,
   "metadata": {},
   "outputs": [
    {
     "data": {
      "text/plain": [
       "71"
      ]
     },
     "execution_count": 20,
     "metadata": {},
     "output_type": "execute_result"
    }
   ],
   "source": [
    "142 / 2"
   ]
  },
  {
   "cell_type": "code",
   "execution_count": 22,
   "metadata": {},
   "outputs": [
    {
     "data": {
      "text/plain": [
       "35"
      ]
     },
     "execution_count": 22,
     "metadata": {},
     "output_type": "execute_result"
    }
   ],
   "source": [
    "71/2"
   ]
  },
  {
   "cell_type": "code",
   "execution_count": null,
   "metadata": {},
   "outputs": [],
   "source": [
    "35/2"
   ]
  },
  {
   "cell_type": "code",
   "execution_count": null,
   "outputs": [],
   "source": [
    ""
   ]
  }
 ],
 "metadata": {
  "kernelspec": {
   "display_name": "Python 2",
   "language": "python",
   "name": "python2"
  },
  "language_info": {
   "codemirror_mode": {
    "name": "ipython",
    "version": 2.0
   },
   "file_extension": ".py",
   "mimetype": "text/x-python",
   "name": "python",
   "nbconvert_exporter": "python",
   "pygments_lexer": "ipython2",
   "version": "2.7.6"
  }
 },
 "nbformat": 4,
 "nbformat_minor": 0
}