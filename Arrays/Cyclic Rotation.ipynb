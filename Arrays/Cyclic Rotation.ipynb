{
 "cells": [
  {
   "cell_type": "markdown",
   "metadata": {
    "collapsed": true
   },
   "source": [
    ""
   ]
  },
  {
   "cell_type": "markdown",
   "metadata": {},
   "source": [
    "Write a function:\n",
    "\n",
    "    class Solution { public int[] solution(int[] A, int K); }\n",
    "\n",
    "that, given a zero-indexed array A consisting of N integers and an integer K, returns the array A rotated K times.\n",
    "\n",
    "For example, given array A = [3, 8, 9, 7, 6] and K = 3, the function should return [9, 7, 6, 3, 8].\n",
    "\n",
    "Assume that:\n",
    "\n",
    "        N and K are integers within the range [0..100];\n",
    "        each element of array A is an integer within the range [−1,000..1,000].\n",
    "\n"
   ]
  },
  {
   "cell_type": "code",
   "execution_count": 3,
   "metadata": {},
   "outputs": [
    {
     "name": "stdout",
     "output_type": "stream",
     "text": [
      "[6]\n[6, 8, 9, 7, 6]\n[6, 3, 8, 9, 7]\n3\n5\n[9, 7, 6, 3, 8]\n"
     ]
    }
   ],
   "source": [
    "A = [3, 8, 9, 7, 6] \n",
    "\n",
    "print A[-1:]\n",
    "\n",
    "B = A[-1:] + A[1:]\n",
    "\n",
    "print B\n",
    "\n",
    "B = A[-1:] + A[:-1]\n",
    "\n",
    "print B\n",
    "\n",
    "K = 3\n",
    "\n",
    "print K\n",
    "\n",
    "print len(A)\n",
    "\n",
    "C = B = A[-(3):] + A[:-(3)]\n",
    "\n",
    "print C"
   ]
  },
  {
   "cell_type": "markdown",
   "metadata": {},
   "source": [
    "Cyclic Rotation "
   ]
  },
  {
   "cell_type": "code",
   "execution_count": 5,
   "metadata": {},
   "outputs": [],
   "source": [
    "def solution(A,K):\n",
    "    if K >= len(A):\n",
    "        M = K - len(A)\n",
    "        \n",
    "        return A[-(M):] + A[:-(M)]\n",
    "    \n",
    "    else:\n",
    "        return A[-():] + A[:-(K)]"
   ]
  },
  {
   "cell_type": "code",
   "execution_count": 7,
   "metadata": {},
   "outputs": [
    {
     "name": "stdout",
     "output_type": "stream",
     "text": [
      "[9, 7, 6, 3, 8]\n"
     ]
    }
   ],
   "source": [
    "print solution(A,K)"
   ]
  },
  {
   "cell_type": "code",
   "execution_count": null,
   "metadata": {},
   "outputs": [],
   "source": [
    ""
   ]
  }
 ],
 "metadata": {
  "kernelspec": {
   "display_name": "Python 2",
   "language": "python",
   "name": "python2"
  },
  "language_info": {
   "codemirror_mode": {
    "name": "ipython",
    "version": 2.0
   },
   "file_extension": ".py",
   "mimetype": "text/x-python",
   "name": "python",
   "nbconvert_exporter": "python",
   "pygments_lexer": "ipython2",
   "version": "2.7.6"
  }
 },
 "nbformat": 4,
 "nbformat_minor": 0
}