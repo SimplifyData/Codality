{
 "cells": [
  {
   "cell_type": "markdown",
   "metadata": {
    "collapsed": true
   },
   "source": [
    "-----\n",
    "Write a function:\n",
    "\n",
    "    def solution(A)\n",
    "\n",
    "that, given an array A consisting of N integers fulfilling the above conditions, returns the value of the unpaired element.\n",
    "\n",
    "For example, given array A such that:\n",
    "  A[0] = 9  A[1] = 3  A[2] = 9\n",
    "  A[3] = 3  A[4] = 9  A[5] = 7\n",
    "  A[6] = 9\n",
    "\n",
    "the function should return 7, as explained in the example above.\n",
    "\n",
    "Assume that:\n",
    "\n",
    "        N is an odd integer within the range [1..1,000,000];\n",
    "        each element of array A is an integer within the range [1..1,000,000,000];\n",
    "        all but one of the values in A occur an even number of times.\n",
    "\n",
    "Complexity:\n",
    "\n",
    "        expected worst-case time complexity is O(N);\n",
    "        expected worst-case space complexity is O(1), beyond input storage (not counting the storage required for input arguments).\n",
    "\n",
    "Elements of input arrays can be modified.\n",
    "\n",
    "-------"
   ]
  },
  {
   "cell_type": "markdown",
   "metadata": {},
   "source": [
    "Creating sample Array"
   ]
  },
  {
   "cell_type": "code",
   "execution_count": 3,
   "metadata": {},
   "outputs": [],
   "source": [
    "A = [9,3,9,3,9,7,9]"
   ]
  },
  {
   "cell_type": "code",
   "execution_count": 4,
   "metadata": {},
   "outputs": [
    {
     "name": "stdout",
     "output_type": "stream",
     "text": [
      "7\n"
     ]
    }
   ],
   "source": [
    "print len(A)"
   ]
  },
  {
   "cell_type": "code",
   "execution_count": 8,
   "metadata": {},
   "outputs": [
    {
     "name": "stdout",
     "output_type": "stream",
     "text": [
      "[3, 3, 7, 9, 9, 9, 9]\n"
     ]
    }
   ],
   "source": [
    "print sorted(A)"
   ]
  },
  {
   "cell_type": "markdown",
   "metadata": {},
   "source": [
    "designing algorithm"
   ]
  },
  {
   "cell_type": "code",
   "execution_count": 31,
   "metadata": {},
   "outputs": [
    {
     "name": "stdout",
     "output_type": "stream",
     "text": [
      "num:  3\nnum:  3\nnum:  7\nsingle num:  3\ncount:  2\nnum:  9\nsingle num:  7\ncount:  1\n7\n"
     ]
    }
   ],
   "source": [
    "single_num = sorted(A)[0]\n",
    "count = 0\n",
    "if len(A) == 0:\n",
    "    print A\n",
    "    \n",
    "for num in sorted(A):\n",
    "    print \"num: \", num\n",
    "    \n",
    "    if num % single_num:\n",
    "        print \"single num: \", single_num\n",
    "        \n",
    "        print \"count: \", count\n",
    "        \n",
    "        if count > 1:\n",
    "            single_num = num\n",
    "            count = 0\n",
    "        else:\n",
    "            print single_num\n",
    "            \n",
    "            break\n",
    "    \n",
    "    count += 1\n",
    "   \n",
    "\n",
    "#print single_num"
   ]
  },
  {
   "cell_type": "code",
   "execution_count": 63,
   "metadata": {},
   "outputs": [],
   "source": [
    "def solution_1(A):\n",
    "    \n",
    "    if len(A) == 0:\n",
    "        return A\n",
    "    \n",
    "    elif len(A) == 1:\n",
    "        return A[0]\n",
    "    \n",
    "    elif type(A) is int:\n",
    "        return A\n",
    "    \n",
    "    elif len(A) % 2:\n",
    "        single_num = sorted(A)[0]\n",
    "        \n",
    "        count = 0\n",
    "            \n",
    "        for i,num in enumerate(sorted(A)):\n",
    "            if num != single_num:\n",
    "                print \"num: \", num\n",
    "                \n",
    "                print \"single num: \", single_num\n",
    "                \n",
    "                print \"Count: \", count\n",
    "                \n",
    "                if count > 1:\n",
    "                    single_num = num\n",
    "                    count = 1\n",
    "                elif count == 1:\n",
    "                    return single_num\n",
    "            else:\n",
    "                count += 1\n",
    "            if i >= len(A)-1:\n",
    "                return single_num\n",
    "            \n",
    "            print \"end single num: \", single_num\n",
    "            \n",
    "            print \"end count: \", count\n",
    "            \n",
    "            print \"end num: \", num"
   ]
  },
  {
   "cell_type": "code",
   "execution_count": 64,
   "metadata": {},
   "outputs": [
    {
     "name": "stdout",
     "output_type": "stream",
     "text": [
      "[3, 3, 7, 9, 9, 9, 9] \n\nend single num:  3\nend count:  1\nend num:  3\nend single num:  3\nend count:  2\nend num:  3\nnum:  7\nsingle num:  3\nCount:  2\nend single num:  7\nend count:  1\nend num:  7\nnum:  9\nsingle num:  7\nCount:  1\n7\n"
     ]
    }
   ],
   "source": [
    "print sorted(A), \"\\n\"\n",
    "\n",
    "print solution(A)"
   ]
  },
  {
   "cell_type": "code",
   "execution_count": 65,
   "metadata": {},
   "outputs": [],
   "source": [
    "B = [2, 2, 3, 3, 4]"
   ]
  },
  {
   "cell_type": "code",
   "execution_count": 66,
   "metadata": {},
   "outputs": [
    {
     "name": "stdout",
     "output_type": "stream",
     "text": [
      "[2, 2, 3, 3, 4] \n\nend single num:  2\nend count:  1\nend num:  2\nend single num:  2\nend count:  2\nend num:  2\nnum:  3\nsingle num:  2\nCount:  2\nend single num:  3\nend count:  1\nend num:  3\nend single num:  3\nend count:  2\nend num:  3\nnum:  4\nsingle num:  3\nCount:  2\n4\n"
     ]
    }
   ],
   "source": [
    "print sorted(B), \"\\n\"\n",
    "\n",
    "print solution(B)"
   ]
  },
  {
   "cell_type": "markdown",
   "metadata": {},
   "source": [
    "version 2-"
   ]
  },
  {
   "cell_type": "code",
   "execution_count": 82,
   "metadata": {},
   "outputs": [],
   "source": [
    "def solution_2(A):\n",
    "    \n",
    "    if len(A) == 0:\n",
    "        return A\n",
    "    \n",
    "    elif len(A) == 1:\n",
    "        return A[0]\n",
    "    \n",
    "    elif type(A) is int:\n",
    "        return A\n",
    "    \n",
    "    elif len(A) % 2:\n",
    "        single_num = sorted(A)[0]\n",
    "        \n",
    "        count = 0\n",
    "            \n",
    "        for i,num in enumerate(sorted(A)):\n",
    "            if num != single_num: \n",
    "                print \"num: \", num\n",
    "                \n",
    "                print \"Count: \", count\n",
    "                \n",
    "                print \"single num: \", single_num\n",
    "                \n",
    "                if count > 1:\n",
    "                    single_num = num\n",
    "                    \n",
    "                    count = 1\n",
    "                \n",
    "                elif count == 1:\n",
    "                    return str(single_num) +\" \" + str(sorted(A[i-5:i+5])) \n",
    "            else:\n",
    "                count += 1\n",
    "            \n",
    "            if i >= len(A)-1:\n",
    "                return single_num"
   ]
  },
  {
   "cell_type": "code",
   "execution_count": 83,
   "metadata": {},
   "outputs": [
    {
     "name": "stdout",
     "output_type": "stream",
     "text": [
      "[2, 2, 3, 3, 4]\nnum:  3\nCount:  2\nsingle num:  2\nnum:  4\nCount:  2\nsingle num:  3\n4\n"
     ]
    }
   ],
   "source": [
    "print sorted(B)\n",
    "\n",
    "print solution_2(B)"
   ]
  },
  {
   "cell_type": "code",
   "execution_count": 84,
   "metadata": {},
   "outputs": [
    {
     "name": "stdout",
     "output_type": "stream",
     "text": [
      "[3, 3, 7, 9, 9, 9, 9]\nnum:  7\nCount:  2\nsingle num:  3\nnum:  9\nCount:  1\nsingle num:  7\n7 [7, 9]\n"
     ]
    }
   ],
   "source": [
    "print sorted(A)\n",
    "\n",
    "print solution_2(A)"
   ]
  },
  {
   "cell_type": "markdown",
   "metadata": {},
   "source": [
    "V3"
   ]
  },
  {
   "cell_type": "code",
   "execution_count": null,
   "metadata": {},
   "outputs": [],
   "source": [
    "def solution_3(A):\n",
    "    \n",
    "    if len(A) == 0:\n",
    "        return A\n",
    "    \n",
    "    elif len(A) == 1:\n",
    "        return A[0]\n",
    "    \n",
    "    elif type(A) is int:\n",
    "        return A\n",
    "    \n",
    "    elif len(A) % 2:\n",
    "        single_num = sorted(A)[0]\n",
    "        \n",
    "        count = 1\n",
    "            \n",
    "        for i,num in enumerate(sorted(A)):\n",
    "            if num != single_num:    \n",
    "                if count > 1:\n",
    "                    single_num = num\n",
    "                    \n",
    "                    count = 1\n",
    "                \n",
    "                elif count == 1:\n",
    "                    return single_num\n",
    "            else:\n",
    "                count += 1\n",
    "            \n",
    "            if i >= len(A)-1:\n",
    "                return single_num"
   ]
  },
  {
   "cell_type": "markdown",
   "metadata": {},
   "source": [
    "V4"
   ]
  },
  {
   "cell_type": "code",
   "execution_count": 88,
   "metadata": {},
   "outputs": [],
   "source": [
    "def solution_4(A):\n",
    "    \n",
    "    if len(A) == 0:\n",
    "        return A\n",
    "    \n",
    "    elif len(A) == 1:\n",
    "        return A[0]\n",
    "    \n",
    "    elif type(A) is int:\n",
    "        return A\n",
    "    \n",
    "    elif len(A) % 2:\n",
    "        single_num = sorted(A)[0]\n",
    "        \n",
    "        count = 1\n",
    "            \n",
    "        for i,num in enumerate(sorted(A)):\n",
    "            if num != single_num:    \n",
    "                if count > 1:\n",
    "                    single_num = num\n",
    "                    \n",
    "                    count = 1\n",
    "                \n",
    "                elif count == 1:\n",
    "                    return single_num\n",
    "            elif single_num == num:\n",
    "                count += 1\n",
    "            \n",
    "            if i >= len(A)-1:\n",
    "                return single_num"
   ]
  },
  {
   "cell_type": "code",
   "execution_count": 93,
   "metadata": {},
   "outputs": [
    {
     "name": "stdout",
     "output_type": "stream",
     "text": [
      "[3, 3, 7, 9, 9, 9, 9]\n7\n"
     ]
    }
   ],
   "source": [
    "sorted(A)\n",
    "print A\n",
    "\n",
    "print solution_4(A)"
   ]
  },
  {
   "cell_type": "markdown",
   "metadata": {},
   "source": [
    "V 5 - did not forgot the fine line \"All but one occurs Even number of times\". Instead solved it for \"all but one int does not have any pair, is only a single element\". Fixing the solutions now."
   ]
  },
  {
   "cell_type": "code",
   "execution_count": 103,
   "metadata": {},
   "outputs": [],
   "source": [
    "def solution_5(A):\n",
    "    \n",
    "    if len(A) == 0:\n",
    "        return A\n",
    "    \n",
    "    elif len(A) == 1:\n",
    "        return A[0]\n",
    "    \n",
    "    elif type(A) is int:\n",
    "        return A\n",
    "    \n",
    "    elif len(A) % 2:\n",
    "        single_num = sorted(A)[0]\n",
    "        \n",
    "        count = 0\n",
    "            \n",
    "        for i,num in enumerate(sorted(A)):\n",
    "            if num != single_num:    \n",
    "                if count > 1:\n",
    "                    if count % 2:\n",
    "                        print \"count\", count\n",
    "                        \n",
    "                        print \"num\", num\n",
    "                        \n",
    "                        print \"single num\", single_num\n",
    "                        \n",
    "                        return single_num\n",
    "                    \n",
    "                    single_num = num\n",
    "                    \n",
    "                    count = 1\n",
    "                \n",
    "                elif count == 1:\n",
    "                    print \"count\", count\n",
    "                    \n",
    "                    print \"num\", num\n",
    "                    \n",
    "                    print \"single num\", single_num\n",
    "                    \n",
    "                    return single_num\n",
    "            elif single_num == num:\n",
    "                count += 1\n",
    "            \n",
    "            if i >= len(A)-1:\n",
    "                return single_num"
   ]
  },
  {
   "cell_type": "code",
   "execution_count": 104,
   "metadata": {},
   "outputs": [
    {
     "name": "stdout",
     "output_type": "stream",
     "text": [
      "count 1\nnum 9\nsingle num 7\n7\n"
     ]
    }
   ],
   "source": [
    "print solution_5(A)"
   ]
  },
  {
   "cell_type": "code",
   "execution_count": 106,
   "metadata": {},
   "outputs": [
    {
     "data": {
      "text/plain": [
       "1"
      ]
     },
     "execution_count": 106,
     "metadata": {},
     "output_type": "execute_result"
    }
   ],
   "source": [
    "1 % 2"
   ]
  },
  {
   "cell_type": "markdown",
   "metadata": {},
   "source": [
    "V5 .1"
   ]
  },
  {
   "cell_type": "code",
   "execution_count": 109,
   "metadata": {},
   "outputs": [],
   "source": [
    "def solution_5_1(A):\n",
    "    \n",
    "    if len(A) == 0:\n",
    "        return A\n",
    "    \n",
    "    elif len(A) == 1:\n",
    "        return A[0]\n",
    "    \n",
    "    elif type(A) is int:\n",
    "        return A\n",
    "    \n",
    "    elif len(A) % 2:\n",
    "        single_num = sorted(A)[0]\n",
    "        \n",
    "        count = 0\n",
    "            \n",
    "        for i,num in enumerate(sorted(A)):\n",
    "            if num != single_num:    \n",
    "                if count % 2:\n",
    "                    print \"count\", count\n",
    "                    \n",
    "                    print \"num\", num\n",
    "                    \n",
    "                    print \"single num\", single_num\n",
    "                    \n",
    "                    return single_num\n",
    "                \n",
    "                single_num = num\n",
    "                \n",
    "                count = 1\n",
    "                \n",
    "            elif single_num == num:\n",
    "                count += 1\n",
    "            \n",
    "            if i >= len(A)-1:\n",
    "                return single_num"
   ]
  },
  {
   "cell_type": "code",
   "execution_count": 111,
   "metadata": {},
   "outputs": [
    {
     "name": "stdout",
     "output_type": "stream",
     "text": [
      "count 1\nnum 9\nsingle num 7\n7\n"
     ]
    }
   ],
   "source": [
    "print solution_5_1(A)"
   ]
  },
  {
   "cell_type": "code",
   "execution_count": null,
   "metadata": {},
   "outputs": [],
   "source": [
    ""
   ]
  }
 ],
 "metadata": {
  "kernelspec": {
   "display_name": "Python 2",
   "language": "python",
   "name": "python2"
  },
  "language_info": {
   "codemirror_mode": {
    "name": "ipython",
    "version": 2.0
   },
   "file_extension": ".py",
   "mimetype": "text/x-python",
   "name": "python",
   "nbconvert_exporter": "python",
   "pygments_lexer": "ipython2",
   "version": "2.7.6"
  }
 },
 "nbformat": 4,
 "nbformat_minor": 0
}