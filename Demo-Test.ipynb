{
 "cells": [
  {
   "cell_type": "markdown",
   "metadata": {
    "collapsed": true
   },
   "source": [
    "Write a function:\n",
    "\n",
    "    def solution(A)\n",
    "\n",
    "that, given a zero-indexed array A consisting of N integers, returns any of its equilibrium indices. The function should return −1 if no equilibrium index exists.\n",
    "\n",
    "For example, given array A shown above, the function may return 1, 3 or 7, as explained above.\n",
    "\n",
    "Assume that:\n",
    "\n",
    "        N is an integer within the range [0..100,000];\n",
    "        each element of array A is an integer within the range [−2,147,483,648..2,147,483,647].\n",
    "\n",
    "Complexity:\n",
    "\n",
    "        expected worst-case time complexity is O(N);\n",
    "        expected worst-case space complexity is O(N), beyond input storage (not counting the storage required for input arguments).\n",
    "\n",
    "Elements of input arrays can be modified."
   ]
  },
  {
   "cell_type": "markdown",
   "metadata": {},
   "source": [
    "Time taken to get uptill V 6 - about 6 hours"
   ]
  },
  {
   "cell_type": "code",
   "execution_count": null,
   "metadata": {},
   "outputs": [],
   "source": [
    "Ax = [-1, 3, -4, 5, 1, -6, 2, 1]"
   ]
  },
  {
   "cell_type": "markdown",
   "metadata": {},
   "source": [
    "V- 1 - used numpy to sum soon realized numpy does not work on codality. I have usually required more time working on solutions when solving something espically with a new technique."
   ]
  },
  {
   "cell_type": "code",
   "execution_count": 4,
   "metadata": {},
   "outputs": [],
   "source": [
    "def solution_1(A):\n",
    "    addition_list = list()\n",
    "    list_index = 1\n",
    "\n",
    "    addition_list.append(A[0])\n",
    "    try:\n",
    "        if len(A) >= 0 and len(A) <= 100000:\n",
    "\n",
    "            for i, int_in_arr in enumerate(A):\n",
    "                # print i, \" \", int_in_arr\n",
    "\n",
    "                if int_in_arr >= -2 and int_in_arr <= 647 and type(int_in_arr) is int:\n",
    "                    if i == 0: continue\n",
    "\n",
    "                    addition_list.append(int_in_arr + addition_list[list_index - 1])\n",
    "\n",
    "                    print \"i: \", i, \"\\n\"\n",
    "\n",
    "                    #print A[0:i], \"\\n\"\n",
    "\n",
    "                    # print numpy.sum(A[0:i])\n",
    "\n",
    "                    #print A[i + 1:], \"\\n\"\n",
    "\n",
    "                    # print addition_list\n",
    "\n",
    "                    list_index += 1\n",
    "\n",
    "\n",
    "                else:\n",
    "                    raise ValueError(\"one of the array element: integer out of range\", int_in_arr)\n",
    "\n",
    "        else:\n",
    "            raise ValueError(\"array indices out of range \", len(A))\n",
    "        print A\n",
    "\n",
    "\n",
    "        print \"\\n\", addition_list\n",
    "\n",
    "        last_list_index = i\n",
    "\n",
    "        list_index = 1\n",
    "\n",
    "        while list_index != last_list_index:\n",
    "            print addition_list[last_list_index]\n",
    "            if A[list_index-1] == (addition_list[last_list_index] - addition_list[list_index]):\n",
    "                return list_index\n",
    "\n",
    "\n",
    "    except (ValueError, RuntimeError) as err:\n",
    "\n",
    "        print err.args"
   ]
  },
  {
   "cell_type": "code",
   "execution_count": 5,
   "metadata": {},
   "outputs": [
    {
     "name": "stdout",
     "output_type": "stream",
     "text": [
      "i:  1 \n\n('one of the array element: integer out of range', -4)\n"
     ]
    }
   ],
   "source": [
    "test = solution_1(Ax)"
   ]
  },
  {
   "cell_type": "markdown",
   "metadata": {},
   "source": [
    "Solution 2"
   ]
  },
  {
   "cell_type": "code",
   "execution_count": 10,
   "metadata": {},
   "outputs": [],
   "source": [
    "def solution_2(A):\n",
    "    addition_list = list()\n",
    "    list_index = 1\n",
    "\n",
    "    addition_list.append(A[0])\n",
    "    try:\n",
    "        if len(A) >= 0 and len(A) <= 100000:\n",
    "\n",
    "            for i, int_in_arr in enumerate(A):\n",
    "                # print i, \" \", int_in_arr\n",
    "\n",
    "                if int_in_arr >= -2 and int_in_arr <= 647 and type(int_in_arr) is int:\n",
    "                    if i == 0: continue\n",
    "\n",
    "                    addition_list.append(int_in_arr + addition_list[list_index - 1])\n",
    "\n",
    "                    #print \"i: \", i, \"\\n\"\n",
    "\n",
    "                    #print A[0:i], \"\\n\"\n",
    "\n",
    "                    # print math.sum(A[0:i])\n",
    "\n",
    "                    #print A[i + 1:], \"\\n\"\n",
    "\n",
    "                    # print addition_list\n",
    "\n",
    "                    list_index += 1\n",
    "\n",
    "\n",
    "                else:\n",
    "                    raise ValueError(\"one of the array element: integer out of range\", int_in_arr)\n",
    "\n",
    "        else:\n",
    "            raise ValueError(\"array indices out of range \", len(A))\n",
    "        #print A\n",
    "\n",
    "\n",
    "        #print \"\\n\", addition_list\n",
    "\n",
    "        last_list_index = i\n",
    "\n",
    "        list_index = 1\n",
    "\n",
    "        while list_index != last_list_index:\n",
    "            print addition_list[last_list_index]\n",
    "            if A[list_index-1] == (addition_list[last_list_index] - addition_list[list_index]):\n",
    "                return list_index\n",
    "\n",
    "\n",
    "    except (ValueError, RuntimeError) as err:\n",
    "\n",
    "        return err"
   ]
  },
  {
   "cell_type": "code",
   "execution_count": 11,
   "metadata": {},
   "outputs": [
    {
     "name": "stdout",
     "output_type": "stream",
     "text": [
      "('one of the array element: integer out of range', -4)\n"
     ]
    }
   ],
   "source": [
    "print solution_2(Ax)"
   ]
  },
  {
   "cell_type": "markdown",
   "metadata": {},
   "source": [
    "Solution 3\n"
   ]
  },
  {
   "cell_type": "code",
   "execution_count": 16,
   "metadata": {},
   "outputs": [],
   "source": [
    "def solution_3(A):\n",
    "    addition_list = list()\n",
    "    list_index = 0\n",
    "\n",
    "    addition_list.append(A[0])\n",
    "    try:\n",
    "        if len(A) >= 0 and len(A) <= 100000:\n",
    "            for i, int_in_arr in enumerate(A):\n",
    "                if type(int_in_arr) is int:\n",
    "                    if i == 0: continue\n",
    "                    if sum(A[:i]) == (sum(A[:]) - sum(A[:i+1])):\n",
    "                        return i\n",
    "\n",
    "\n",
    "                else:\n",
    "                    raise ValueError(\"one of the array element: integer out of range\", int_in_arr)\n",
    "\n",
    "        else:\n",
    "            raise ValueError(\"array indices out of range \", len(A))\n",
    "\n",
    "        return -1\n",
    "\n",
    "    except (ValueError, RuntimeError) as err:\n",
    "\n",
    "        return err"
   ]
  },
  {
   "cell_type": "code",
   "execution_count": 17,
   "metadata": {},
   "outputs": [
    {
     "name": "stdout",
     "output_type": "stream",
     "text": [
      "1\n"
     ]
    }
   ],
   "source": [
    "print solution_3(Ax)"
   ]
  },
  {
   "cell_type": "markdown",
   "metadata": {},
   "source": [
    "solution 4"
   ]
  },
  {
   "cell_type": "code",
   "execution_count": 20,
   "metadata": {},
   "outputs": [],
   "source": [
    "def solution_4(A):\n",
    "    addition_list = list()\n",
    "    list_index = 0\n",
    "\n",
    "    addition_list.append(A[0])\n",
    "    try:\n",
    "        if 0 == sum(A[1:]):\n",
    "            return 0\n",
    "\n",
    "        elif len(A) == abs(sum(A[:])):\n",
    "            if len(A) % 2:\n",
    "                return len(A)/2\n",
    "            else:\n",
    "                return -1\n",
    "\n",
    "        elif len(A) >= 0 and len(A) <= 100000:\n",
    "            for i in xrange(len(A)):\n",
    "                #if type(int_in_arr) is int:\n",
    "                if i == 0: continue\n",
    "                if sum(A[:i]) == (sum(A[:]) - sum(A[:i+1])):\n",
    "                    return i\n",
    "\n",
    "\n",
    "            else:\n",
    "                raise ValueError(\"one of the array element: integer out of range\", int_in_arr)\n",
    "\n",
    "        else:\n",
    "            raise ValueError(\"array indices out of range \", len(A))\n",
    "\n",
    "        return -1\n",
    "\n",
    "    except (ValueError, RuntimeError) as err:\n",
    "\n",
    "        return err"
   ]
  },
  {
   "cell_type": "code",
   "execution_count": 21,
   "metadata": {},
   "outputs": [
    {
     "name": "stdout",
     "output_type": "stream",
     "text": [
      "1\n"
     ]
    }
   ],
   "source": [
    "print solution_4(Ax)"
   ]
  },
  {
   "cell_type": "markdown",
   "metadata": {},
   "source": [
    "Solution 5"
   ]
  },
  {
   "cell_type": "code",
   "execution_count": 25,
   "metadata": {},
   "outputs": [],
   "source": [
    "def solution_5(A):\n",
    "\n",
    "    try:\n",
    "        if 0 == sum(A[1:]):\n",
    "            return 0\n",
    "\n",
    "        if len(A) == abs(sum(A[:])):\n",
    "            if len(A) % 2:\n",
    "                return len(A)/2\n",
    "            else:\n",
    "                return -1\n",
    "\n",
    "        elif len(A) >= 0 and len(A) <= 100000:\n",
    "            left_sum = A[0]\n",
    "            right_sum = sum(A[1:])\n",
    "\n",
    "            #print \"left_sum: \" , left_sum\n",
    "\n",
    "            #print \"right sum: \", right_sum, \"\\n\"\n",
    "\n",
    "            for i,val in enumerate(A):\n",
    "\n",
    "                #if type(int_in_arr) is int:\n",
    "                if i == 0: continue\n",
    "                #print A\n",
    "                #print \"i: \", i\n",
    "                #print \"val: \", val\n",
    "                #print \"left sum: \", left_sum\n",
    "                #print \"right sum: \", right_sum\n",
    "                #print \"\\n\\n\"\n",
    "\n",
    "                right_sum -= val\n",
    "\n",
    "                if left_sum  == right_sum:\n",
    "                    #print \"found match\"\n",
    "                    return i\n",
    "                left_sum += val\n",
    "\n",
    "\n",
    "            #else:\n",
    "                #raise ValueError(\"one of the array element: integer out of range\", int_in_arr)\n",
    "\n",
    "        else:\n",
    "            return -1\n",
    "\n",
    "    except (ValueError, RuntimeError) as err:\n",
    "\n",
    "        return err"
   ]
  },
  {
   "cell_type": "code",
   "execution_count": 26,
   "metadata": {},
   "outputs": [
    {
     "name": "stdout",
     "output_type": "stream",
     "text": [
      "1\n"
     ]
    }
   ],
   "source": [
    "print solution_5(Ax)"
   ]
  },
  {
   "cell_type": "markdown",
   "metadata": {},
   "source": [
    "Solution 6 - reduced asympottic time complexity by increasing space complexity. O^n"
   ]
  },
  {
   "cell_type": "code",
   "execution_count": 29,
   "metadata": {},
   "outputs": [],
   "source": [
    "def solution_6(A):\n",
    "\n",
    "    left_sum = 0\n",
    "\n",
    "    right_sum = sum(A[1:])\n",
    "\n",
    "    len_arr = len(A)\n",
    "\n",
    "    try:\n",
    "        if len_arr <= 1:\n",
    "            if len_arr == 1:\n",
    "                return 0\n",
    "            else:\n",
    "                return -1\n",
    "\n",
    "        if left_sum == right_sum:\n",
    "            return 0\n",
    "\n",
    "        #if sum(A[:-1]) == 0:\n",
    "            #return len_arr-1\n",
    "\n",
    "\n",
    "        if len(A) == abs(sum(A[:])):\n",
    "            if len(A) % 2:\n",
    "                return len(A)/2\n",
    "            else:\n",
    "                return -1\n",
    "\n",
    "        if len(A) >= 0 and len(A) <= 100000:\n",
    "            for i,val in enumerate(A):\n",
    "                if i == 0: continue\n",
    "\n",
    "                right_sum -= val\n",
    "                left_sum += A[i-1]\n",
    "\n",
    "                if left_sum  == right_sum:\n",
    "                    return i\n",
    "\n",
    "                if i >= len_arr:\n",
    "                    return -1\n",
    "\n",
    "            else:\n",
    "                return -1\n",
    "\n",
    "\n",
    "    except (ValueError, RuntimeError) as err:\n",
    "\n",
    "        return err"
   ]
  },
  {
   "cell_type": "code",
   "execution_count": 30,
   "metadata": {},
   "outputs": [
    {
     "name": "stdout",
     "output_type": "stream",
     "text": [
      "1\n"
     ]
    }
   ],
   "source": [
    "print solution_6(Ax)"
   ]
  },
  {
   "cell_type": "markdown",
   "metadata": {},
   "source": [
    "Version 7 - Improving Time Complexity - O^n"
   ]
  },
  {
   "cell_type": "code",
   "execution_count": 45,
   "metadata": {},
   "outputs": [],
   "source": [
    "def solution_7(A):\n",
    "\n",
    "    left_sum = 0\n",
    "\n",
    "    right_sum = sum(A[1:])\n",
    "\n",
    "    len_arr = len(A)\n",
    "\n",
    "    try:\n",
    "        if len_arr <= 1:\n",
    "            if len_arr == 1:\n",
    "                return 0\n",
    "            else:\n",
    "                return -1\n",
    "\n",
    "        if left_sum == right_sum:\n",
    "            return 0\n",
    "\n",
    "        if sum(A[:-1]) == 0:\n",
    "            return len_arr-1\n",
    "\n",
    "        if len(A) == abs(sum(A[:])):\n",
    "            if len(A) % 2:\n",
    "                return len(A)/2\n",
    "            else:\n",
    "                return -1\n",
    "\n",
    "        if len(A) >= 0 and len(A) <= 100000:\n",
    "            left_sum = A[0]\n",
    "            \n",
    "            for i,val in enumerate(A[1:]):\n",
    "                right_sum -= val\n",
    "                \n",
    "                #left_sum += val\n",
    "            \n",
    "                if left_sum  == right_sum:\n",
    "                    return i+1\n",
    "                \n",
    "                left_sum +=val\n",
    "            \n",
    "                if i >= len_arr:\n",
    "                    return -1\n",
    "\n",
    "            else:\n",
    "                return -1\n",
    "\n",
    "\n",
    "    except (ValueError, RuntimeError) as err:\n",
    "\n",
    "        return err"
   ]
  },
  {
   "cell_type": "code",
   "execution_count": 46,
   "metadata": {},
   "outputs": [
    {
     "name": "stdout",
     "output_type": "stream",
     "text": [
      "1\n"
     ]
    }
   ],
   "source": [
    "print solution_7(Ax)"
   ]
  },
  {
   "cell_type": "markdown",
   "metadata": {},
   "source": [
    "Result: https://codility.com/demo/results/demo9VD6VE-DCH/"
   ]
  },
  {
   "cell_type": "code",
   "execution_count": null,
   "metadata": {},
   "outputs": [],
   "source": [
    ""
   ]
  }
 ],
 "metadata": {
  "kernelspec": {
   "display_name": "Python 2",
   "language": "python",
   "name": "python2"
  },
  "language_info": {
   "codemirror_mode": {
    "name": "ipython",
    "version": 2.0
   },
   "file_extension": ".py",
   "mimetype": "text/x-python",
   "name": "python",
   "nbconvert_exporter": "python",
   "pygments_lexer": "ipython2",
   "version": "2.7.6"
  }
 },
 "nbformat": 4,
 "nbformat_minor": 0
}